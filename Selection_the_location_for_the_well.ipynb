{
 "cells": [
  {
   "cell_type": "markdown",
   "metadata": {},
   "source": [
    "# Выбор локации для скважины"
   ]
  },
  {
   "cell_type": "markdown",
   "metadata": {},
   "source": [
    "В рамках проекта необходимо построить модель для задачи регрессии.\n",
    "\n",
    "Необходимо предложить добывающей компании «ГлавРосГосНефть» решение о том, где бурить новую скважину.\n",
    "\n",
    "В качестве исходных данных используются пробы нефти в трёх регионах: в каждом 10 000 месторождений, где измерено качество нефти и объём её запасов. Нужно построить модель машинного обучения, которая поможет определить регион, где добыча принесёт наибольшую прибыль. Также необходимо проанализировать возможную прибыль и риски техникой *Bootstrap.*\n",
    "\n",
    "Шаги для выбора локации:\n",
    "\n",
    "- В избранном регионе ищут месторождения, для каждого определяют значения признаков;\n",
    "- Строят модель и оценивают объём запасов;\n",
    "- Выбирают месторождения с самым высокими оценками значений. Количество месторождений зависит от бюджета компании и стоимости разработки одной скважины;\n",
    "- Прибыль равна суммарной прибыли отобранных месторождений.\n",
    "\n",
    "Этапы построения модели:\n",
    "\n",
    "- Подготовка данных;\n",
    "- Обучение модели и оценка объема запасов;\n",
    "- Подготовка необходимых значений для расчета прибыли;\n",
    "- Расчет прибыли;\n",
    "- Оценка рисков и прибыли и выбор региона."
   ]
  },
  {
   "cell_type": "markdown",
   "metadata": {},
   "source": [
    "## Загрузка и подготовка данных"
   ]
  },
  {
   "cell_type": "markdown",
   "metadata": {},
   "source": [
    "Импортирт библиотек:"
   ]
  },
  {
   "cell_type": "code",
   "execution_count": 55,
   "metadata": {},
   "outputs": [],
   "source": [
    "import pandas as pd\n",
    "\n",
    "import numpy as np\n",
    "\n",
    "import matplotlib.pyplot as plt\n",
    "\n",
    "from scipy import stats as st\n",
    "from scipy.stats import ttest_1samp\n",
    "\n",
    "from sklearn.model_selection import train_test_split\n",
    "from sklearn.preprocessing import StandardScaler\n",
    "from sklearn.linear_model import LinearRegression\n",
    "from sklearn.metrics import mean_squared_error\n",
    "from sklearn.metrics import r2_score"
   ]
  },
  {
   "cell_type": "markdown",
   "metadata": {},
   "source": [
    "Чтение файлов:"
   ]
  },
  {
   "cell_type": "code",
   "execution_count": 56,
   "metadata": {},
   "outputs": [],
   "source": [
    "data_0 = pd.read_csv('geo_data_0.csv')\n",
    "data_1 = pd.read_csv('geo_data_1.csv')\n",
    "data_2 = pd.read_csv('geo_data_2.csv')"
   ]
  },
  {
   "cell_type": "markdown",
   "metadata": {},
   "source": [
    "Выведем основную информацию о данных методом `info()`."
   ]
  },
  {
   "cell_type": "code",
   "execution_count": 57,
   "metadata": {},
   "outputs": [
    {
     "name": "stdout",
     "output_type": "stream",
     "text": [
      "<class 'pandas.core.frame.DataFrame'>\n",
      "RangeIndex: 100000 entries, 0 to 99999\n",
      "Data columns (total 5 columns):\n",
      " #   Column   Non-Null Count   Dtype  \n",
      "---  ------   --------------   -----  \n",
      " 0   id       100000 non-null  object \n",
      " 1   f0       100000 non-null  float64\n",
      " 2   f1       100000 non-null  float64\n",
      " 3   f2       100000 non-null  float64\n",
      " 4   product  100000 non-null  float64\n",
      "dtypes: float64(4), object(1)\n",
      "memory usage: 3.8+ MB\n",
      "\n",
      "<class 'pandas.core.frame.DataFrame'>\n",
      "RangeIndex: 100000 entries, 0 to 99999\n",
      "Data columns (total 5 columns):\n",
      " #   Column   Non-Null Count   Dtype  \n",
      "---  ------   --------------   -----  \n",
      " 0   id       100000 non-null  object \n",
      " 1   f0       100000 non-null  float64\n",
      " 2   f1       100000 non-null  float64\n",
      " 3   f2       100000 non-null  float64\n",
      " 4   product  100000 non-null  float64\n",
      "dtypes: float64(4), object(1)\n",
      "memory usage: 3.8+ MB\n",
      "\n",
      "<class 'pandas.core.frame.DataFrame'>\n",
      "RangeIndex: 100000 entries, 0 to 99999\n",
      "Data columns (total 5 columns):\n",
      " #   Column   Non-Null Count   Dtype  \n",
      "---  ------   --------------   -----  \n",
      " 0   id       100000 non-null  object \n",
      " 1   f0       100000 non-null  float64\n",
      " 2   f1       100000 non-null  float64\n",
      " 3   f2       100000 non-null  float64\n",
      " 4   product  100000 non-null  float64\n",
      "dtypes: float64(4), object(1)\n",
      "memory usage: 3.8+ MB\n"
     ]
    }
   ],
   "source": [
    "data_0.info()\n",
    "print()\n",
    "data_1.info()\n",
    "print()\n",
    "data_2.info()"
   ]
  },
  {
   "cell_type": "markdown",
   "metadata": {},
   "source": [
    "Выведем основные статистики данных методом `describe`."
   ]
  },
  {
   "cell_type": "code",
   "execution_count": 58,
   "metadata": {},
   "outputs": [
    {
     "data": {
      "text/html": [
       "<div>\n",
       "<style scoped>\n",
       "    .dataframe tbody tr th:only-of-type {\n",
       "        vertical-align: middle;\n",
       "    }\n",
       "\n",
       "    .dataframe tbody tr th {\n",
       "        vertical-align: top;\n",
       "    }\n",
       "\n",
       "    .dataframe thead th {\n",
       "        text-align: right;\n",
       "    }\n",
       "</style>\n",
       "<table border=\"1\" class=\"dataframe\">\n",
       "  <thead>\n",
       "    <tr style=\"text-align: right;\">\n",
       "      <th></th>\n",
       "      <th>f0</th>\n",
       "      <th>f1</th>\n",
       "      <th>f2</th>\n",
       "      <th>product</th>\n",
       "    </tr>\n",
       "  </thead>\n",
       "  <tbody>\n",
       "    <tr>\n",
       "      <th>count</th>\n",
       "      <td>100000.000000</td>\n",
       "      <td>100000.000000</td>\n",
       "      <td>100000.000000</td>\n",
       "      <td>100000.000000</td>\n",
       "    </tr>\n",
       "    <tr>\n",
       "      <th>mean</th>\n",
       "      <td>0.500419</td>\n",
       "      <td>0.250143</td>\n",
       "      <td>2.502647</td>\n",
       "      <td>92.500000</td>\n",
       "    </tr>\n",
       "    <tr>\n",
       "      <th>std</th>\n",
       "      <td>0.871832</td>\n",
       "      <td>0.504433</td>\n",
       "      <td>3.248248</td>\n",
       "      <td>44.288691</td>\n",
       "    </tr>\n",
       "    <tr>\n",
       "      <th>min</th>\n",
       "      <td>-1.408605</td>\n",
       "      <td>-0.848218</td>\n",
       "      <td>-12.088328</td>\n",
       "      <td>0.000000</td>\n",
       "    </tr>\n",
       "    <tr>\n",
       "      <th>25%</th>\n",
       "      <td>-0.072580</td>\n",
       "      <td>-0.200881</td>\n",
       "      <td>0.287748</td>\n",
       "      <td>56.497507</td>\n",
       "    </tr>\n",
       "    <tr>\n",
       "      <th>50%</th>\n",
       "      <td>0.502360</td>\n",
       "      <td>0.250252</td>\n",
       "      <td>2.515969</td>\n",
       "      <td>91.849972</td>\n",
       "    </tr>\n",
       "    <tr>\n",
       "      <th>75%</th>\n",
       "      <td>1.073581</td>\n",
       "      <td>0.700646</td>\n",
       "      <td>4.715088</td>\n",
       "      <td>128.564089</td>\n",
       "    </tr>\n",
       "    <tr>\n",
       "      <th>max</th>\n",
       "      <td>2.362331</td>\n",
       "      <td>1.343769</td>\n",
       "      <td>16.003790</td>\n",
       "      <td>185.364347</td>\n",
       "    </tr>\n",
       "  </tbody>\n",
       "</table>\n",
       "</div>"
      ],
      "text/plain": [
       "                  f0             f1             f2        product\n",
       "count  100000.000000  100000.000000  100000.000000  100000.000000\n",
       "mean        0.500419       0.250143       2.502647      92.500000\n",
       "std         0.871832       0.504433       3.248248      44.288691\n",
       "min        -1.408605      -0.848218     -12.088328       0.000000\n",
       "25%        -0.072580      -0.200881       0.287748      56.497507\n",
       "50%         0.502360       0.250252       2.515969      91.849972\n",
       "75%         1.073581       0.700646       4.715088     128.564089\n",
       "max         2.362331       1.343769      16.003790     185.364347"
      ]
     },
     "execution_count": 58,
     "metadata": {},
     "output_type": "execute_result"
    }
   ],
   "source": [
    "data_0.describe()"
   ]
  },
  {
   "cell_type": "code",
   "execution_count": 59,
   "metadata": {
    "scrolled": true
   },
   "outputs": [
    {
     "data": {
      "text/html": [
       "<div>\n",
       "<style scoped>\n",
       "    .dataframe tbody tr th:only-of-type {\n",
       "        vertical-align: middle;\n",
       "    }\n",
       "\n",
       "    .dataframe tbody tr th {\n",
       "        vertical-align: top;\n",
       "    }\n",
       "\n",
       "    .dataframe thead th {\n",
       "        text-align: right;\n",
       "    }\n",
       "</style>\n",
       "<table border=\"1\" class=\"dataframe\">\n",
       "  <thead>\n",
       "    <tr style=\"text-align: right;\">\n",
       "      <th></th>\n",
       "      <th>f0</th>\n",
       "      <th>f1</th>\n",
       "      <th>f2</th>\n",
       "      <th>product</th>\n",
       "    </tr>\n",
       "  </thead>\n",
       "  <tbody>\n",
       "    <tr>\n",
       "      <th>count</th>\n",
       "      <td>100000.000000</td>\n",
       "      <td>100000.000000</td>\n",
       "      <td>100000.000000</td>\n",
       "      <td>100000.000000</td>\n",
       "    </tr>\n",
       "    <tr>\n",
       "      <th>mean</th>\n",
       "      <td>1.141296</td>\n",
       "      <td>-4.796579</td>\n",
       "      <td>2.494541</td>\n",
       "      <td>68.825000</td>\n",
       "    </tr>\n",
       "    <tr>\n",
       "      <th>std</th>\n",
       "      <td>8.965932</td>\n",
       "      <td>5.119872</td>\n",
       "      <td>1.703572</td>\n",
       "      <td>45.944423</td>\n",
       "    </tr>\n",
       "    <tr>\n",
       "      <th>min</th>\n",
       "      <td>-31.609576</td>\n",
       "      <td>-26.358598</td>\n",
       "      <td>-0.018144</td>\n",
       "      <td>0.000000</td>\n",
       "    </tr>\n",
       "    <tr>\n",
       "      <th>25%</th>\n",
       "      <td>-6.298551</td>\n",
       "      <td>-8.267985</td>\n",
       "      <td>1.000021</td>\n",
       "      <td>26.953261</td>\n",
       "    </tr>\n",
       "    <tr>\n",
       "      <th>50%</th>\n",
       "      <td>1.153055</td>\n",
       "      <td>-4.813172</td>\n",
       "      <td>2.011479</td>\n",
       "      <td>57.085625</td>\n",
       "    </tr>\n",
       "    <tr>\n",
       "      <th>75%</th>\n",
       "      <td>8.621015</td>\n",
       "      <td>-1.332816</td>\n",
       "      <td>3.999904</td>\n",
       "      <td>107.813044</td>\n",
       "    </tr>\n",
       "    <tr>\n",
       "      <th>max</th>\n",
       "      <td>29.421755</td>\n",
       "      <td>18.734063</td>\n",
       "      <td>5.019721</td>\n",
       "      <td>137.945408</td>\n",
       "    </tr>\n",
       "  </tbody>\n",
       "</table>\n",
       "</div>"
      ],
      "text/plain": [
       "                  f0             f1             f2        product\n",
       "count  100000.000000  100000.000000  100000.000000  100000.000000\n",
       "mean        1.141296      -4.796579       2.494541      68.825000\n",
       "std         8.965932       5.119872       1.703572      45.944423\n",
       "min       -31.609576     -26.358598      -0.018144       0.000000\n",
       "25%        -6.298551      -8.267985       1.000021      26.953261\n",
       "50%         1.153055      -4.813172       2.011479      57.085625\n",
       "75%         8.621015      -1.332816       3.999904     107.813044\n",
       "max        29.421755      18.734063       5.019721     137.945408"
      ]
     },
     "execution_count": 59,
     "metadata": {},
     "output_type": "execute_result"
    }
   ],
   "source": [
    "data_1.describe()"
   ]
  },
  {
   "cell_type": "code",
   "execution_count": 60,
   "metadata": {},
   "outputs": [
    {
     "data": {
      "text/html": [
       "<div>\n",
       "<style scoped>\n",
       "    .dataframe tbody tr th:only-of-type {\n",
       "        vertical-align: middle;\n",
       "    }\n",
       "\n",
       "    .dataframe tbody tr th {\n",
       "        vertical-align: top;\n",
       "    }\n",
       "\n",
       "    .dataframe thead th {\n",
       "        text-align: right;\n",
       "    }\n",
       "</style>\n",
       "<table border=\"1\" class=\"dataframe\">\n",
       "  <thead>\n",
       "    <tr style=\"text-align: right;\">\n",
       "      <th></th>\n",
       "      <th>f0</th>\n",
       "      <th>f1</th>\n",
       "      <th>f2</th>\n",
       "      <th>product</th>\n",
       "    </tr>\n",
       "  </thead>\n",
       "  <tbody>\n",
       "    <tr>\n",
       "      <th>count</th>\n",
       "      <td>100000.000000</td>\n",
       "      <td>100000.000000</td>\n",
       "      <td>100000.000000</td>\n",
       "      <td>100000.000000</td>\n",
       "    </tr>\n",
       "    <tr>\n",
       "      <th>mean</th>\n",
       "      <td>0.002023</td>\n",
       "      <td>-0.002081</td>\n",
       "      <td>2.495128</td>\n",
       "      <td>95.000000</td>\n",
       "    </tr>\n",
       "    <tr>\n",
       "      <th>std</th>\n",
       "      <td>1.732045</td>\n",
       "      <td>1.730417</td>\n",
       "      <td>3.473445</td>\n",
       "      <td>44.749921</td>\n",
       "    </tr>\n",
       "    <tr>\n",
       "      <th>min</th>\n",
       "      <td>-8.760004</td>\n",
       "      <td>-7.084020</td>\n",
       "      <td>-11.970335</td>\n",
       "      <td>0.000000</td>\n",
       "    </tr>\n",
       "    <tr>\n",
       "      <th>25%</th>\n",
       "      <td>-1.162288</td>\n",
       "      <td>-1.174820</td>\n",
       "      <td>0.130359</td>\n",
       "      <td>59.450441</td>\n",
       "    </tr>\n",
       "    <tr>\n",
       "      <th>50%</th>\n",
       "      <td>0.009424</td>\n",
       "      <td>-0.009482</td>\n",
       "      <td>2.484236</td>\n",
       "      <td>94.925613</td>\n",
       "    </tr>\n",
       "    <tr>\n",
       "      <th>75%</th>\n",
       "      <td>1.158535</td>\n",
       "      <td>1.163678</td>\n",
       "      <td>4.858794</td>\n",
       "      <td>130.595027</td>\n",
       "    </tr>\n",
       "    <tr>\n",
       "      <th>max</th>\n",
       "      <td>7.238262</td>\n",
       "      <td>7.844801</td>\n",
       "      <td>16.739402</td>\n",
       "      <td>190.029838</td>\n",
       "    </tr>\n",
       "  </tbody>\n",
       "</table>\n",
       "</div>"
      ],
      "text/plain": [
       "                  f0             f1             f2        product\n",
       "count  100000.000000  100000.000000  100000.000000  100000.000000\n",
       "mean        0.002023      -0.002081       2.495128      95.000000\n",
       "std         1.732045       1.730417       3.473445      44.749921\n",
       "min        -8.760004      -7.084020     -11.970335       0.000000\n",
       "25%        -1.162288      -1.174820       0.130359      59.450441\n",
       "50%         0.009424      -0.009482       2.484236      94.925613\n",
       "75%         1.158535       1.163678       4.858794     130.595027\n",
       "max         7.238262       7.844801      16.739402     190.029838"
      ]
     },
     "execution_count": 60,
     "metadata": {},
     "output_type": "execute_result"
    }
   ],
   "source": [
    "data_2.describe()"
   ]
  },
  {
   "cell_type": "markdown",
   "metadata": {},
   "source": [
    "Средние признаков во всех трех таблицах отличны от нуля, значит, данные необходимо масштабировать.\n",
    "\n",
    "Проверим данные на дубликаты."
   ]
  },
  {
   "cell_type": "code",
   "execution_count": 61,
   "metadata": {},
   "outputs": [
    {
     "data": {
      "text/plain": [
       "0"
      ]
     },
     "execution_count": 61,
     "metadata": {},
     "output_type": "execute_result"
    }
   ],
   "source": [
    "data_0.duplicated().sum()"
   ]
  },
  {
   "cell_type": "code",
   "execution_count": 62,
   "metadata": {},
   "outputs": [
    {
     "data": {
      "text/plain": [
       "0"
      ]
     },
     "execution_count": 62,
     "metadata": {},
     "output_type": "execute_result"
    }
   ],
   "source": [
    "data_1.duplicated().sum()"
   ]
  },
  {
   "cell_type": "code",
   "execution_count": 63,
   "metadata": {},
   "outputs": [
    {
     "data": {
      "text/plain": [
       "0"
      ]
     },
     "execution_count": 63,
     "metadata": {},
     "output_type": "execute_result"
    }
   ],
   "source": [
    "data_2.duplicated().sum()"
   ]
  },
  {
   "cell_type": "markdown",
   "metadata": {},
   "source": [
    "Явных дубликатов нет.\n",
    "\n",
    "По условию задачи необходимо использовать модель линейной регрессии. Для наиболее точной работы модели проверим признаки на надичие мультиколлинеарности. Для этого выведем матрицу коррелиции для каждой таблицы."
   ]
  },
  {
   "cell_type": "code",
   "execution_count": 64,
   "metadata": {},
   "outputs": [
    {
     "data": {
      "text/html": [
       "<div>\n",
       "<style scoped>\n",
       "    .dataframe tbody tr th:only-of-type {\n",
       "        vertical-align: middle;\n",
       "    }\n",
       "\n",
       "    .dataframe tbody tr th {\n",
       "        vertical-align: top;\n",
       "    }\n",
       "\n",
       "    .dataframe thead th {\n",
       "        text-align: right;\n",
       "    }\n",
       "</style>\n",
       "<table border=\"1\" class=\"dataframe\">\n",
       "  <thead>\n",
       "    <tr style=\"text-align: right;\">\n",
       "      <th></th>\n",
       "      <th>f0</th>\n",
       "      <th>f1</th>\n",
       "      <th>f2</th>\n",
       "      <th>product</th>\n",
       "    </tr>\n",
       "  </thead>\n",
       "  <tbody>\n",
       "    <tr>\n",
       "      <th>f0</th>\n",
       "      <td>1.000000</td>\n",
       "      <td>-0.440723</td>\n",
       "      <td>-0.003153</td>\n",
       "      <td>0.143536</td>\n",
       "    </tr>\n",
       "    <tr>\n",
       "      <th>f1</th>\n",
       "      <td>-0.440723</td>\n",
       "      <td>1.000000</td>\n",
       "      <td>0.001724</td>\n",
       "      <td>-0.192356</td>\n",
       "    </tr>\n",
       "    <tr>\n",
       "      <th>f2</th>\n",
       "      <td>-0.003153</td>\n",
       "      <td>0.001724</td>\n",
       "      <td>1.000000</td>\n",
       "      <td>0.483663</td>\n",
       "    </tr>\n",
       "    <tr>\n",
       "      <th>product</th>\n",
       "      <td>0.143536</td>\n",
       "      <td>-0.192356</td>\n",
       "      <td>0.483663</td>\n",
       "      <td>1.000000</td>\n",
       "    </tr>\n",
       "  </tbody>\n",
       "</table>\n",
       "</div>"
      ],
      "text/plain": [
       "               f0        f1        f2   product\n",
       "f0       1.000000 -0.440723 -0.003153  0.143536\n",
       "f1      -0.440723  1.000000  0.001724 -0.192356\n",
       "f2      -0.003153  0.001724  1.000000  0.483663\n",
       "product  0.143536 -0.192356  0.483663  1.000000"
      ]
     },
     "execution_count": 64,
     "metadata": {},
     "output_type": "execute_result"
    }
   ],
   "source": [
    "data_0.corr()"
   ]
  },
  {
   "cell_type": "code",
   "execution_count": 65,
   "metadata": {},
   "outputs": [
    {
     "data": {
      "text/html": [
       "<div>\n",
       "<style scoped>\n",
       "    .dataframe tbody tr th:only-of-type {\n",
       "        vertical-align: middle;\n",
       "    }\n",
       "\n",
       "    .dataframe tbody tr th {\n",
       "        vertical-align: top;\n",
       "    }\n",
       "\n",
       "    .dataframe thead th {\n",
       "        text-align: right;\n",
       "    }\n",
       "</style>\n",
       "<table border=\"1\" class=\"dataframe\">\n",
       "  <thead>\n",
       "    <tr style=\"text-align: right;\">\n",
       "      <th></th>\n",
       "      <th>f0</th>\n",
       "      <th>f1</th>\n",
       "      <th>f2</th>\n",
       "      <th>product</th>\n",
       "    </tr>\n",
       "  </thead>\n",
       "  <tbody>\n",
       "    <tr>\n",
       "      <th>f0</th>\n",
       "      <td>1.000000</td>\n",
       "      <td>0.182287</td>\n",
       "      <td>-0.001777</td>\n",
       "      <td>-0.030491</td>\n",
       "    </tr>\n",
       "    <tr>\n",
       "      <th>f1</th>\n",
       "      <td>0.182287</td>\n",
       "      <td>1.000000</td>\n",
       "      <td>-0.002595</td>\n",
       "      <td>-0.010155</td>\n",
       "    </tr>\n",
       "    <tr>\n",
       "      <th>f2</th>\n",
       "      <td>-0.001777</td>\n",
       "      <td>-0.002595</td>\n",
       "      <td>1.000000</td>\n",
       "      <td>0.999397</td>\n",
       "    </tr>\n",
       "    <tr>\n",
       "      <th>product</th>\n",
       "      <td>-0.030491</td>\n",
       "      <td>-0.010155</td>\n",
       "      <td>0.999397</td>\n",
       "      <td>1.000000</td>\n",
       "    </tr>\n",
       "  </tbody>\n",
       "</table>\n",
       "</div>"
      ],
      "text/plain": [
       "               f0        f1        f2   product\n",
       "f0       1.000000  0.182287 -0.001777 -0.030491\n",
       "f1       0.182287  1.000000 -0.002595 -0.010155\n",
       "f2      -0.001777 -0.002595  1.000000  0.999397\n",
       "product -0.030491 -0.010155  0.999397  1.000000"
      ]
     },
     "execution_count": 65,
     "metadata": {},
     "output_type": "execute_result"
    }
   ],
   "source": [
    "data_1.corr()"
   ]
  },
  {
   "cell_type": "code",
   "execution_count": 66,
   "metadata": {
    "scrolled": true
   },
   "outputs": [
    {
     "data": {
      "text/html": [
       "<div>\n",
       "<style scoped>\n",
       "    .dataframe tbody tr th:only-of-type {\n",
       "        vertical-align: middle;\n",
       "    }\n",
       "\n",
       "    .dataframe tbody tr th {\n",
       "        vertical-align: top;\n",
       "    }\n",
       "\n",
       "    .dataframe thead th {\n",
       "        text-align: right;\n",
       "    }\n",
       "</style>\n",
       "<table border=\"1\" class=\"dataframe\">\n",
       "  <thead>\n",
       "    <tr style=\"text-align: right;\">\n",
       "      <th></th>\n",
       "      <th>f0</th>\n",
       "      <th>f1</th>\n",
       "      <th>f2</th>\n",
       "      <th>product</th>\n",
       "    </tr>\n",
       "  </thead>\n",
       "  <tbody>\n",
       "    <tr>\n",
       "      <th>f0</th>\n",
       "      <td>1.000000</td>\n",
       "      <td>0.000528</td>\n",
       "      <td>-0.000448</td>\n",
       "      <td>-0.001987</td>\n",
       "    </tr>\n",
       "    <tr>\n",
       "      <th>f1</th>\n",
       "      <td>0.000528</td>\n",
       "      <td>1.000000</td>\n",
       "      <td>0.000779</td>\n",
       "      <td>-0.001012</td>\n",
       "    </tr>\n",
       "    <tr>\n",
       "      <th>f2</th>\n",
       "      <td>-0.000448</td>\n",
       "      <td>0.000779</td>\n",
       "      <td>1.000000</td>\n",
       "      <td>0.445871</td>\n",
       "    </tr>\n",
       "    <tr>\n",
       "      <th>product</th>\n",
       "      <td>-0.001987</td>\n",
       "      <td>-0.001012</td>\n",
       "      <td>0.445871</td>\n",
       "      <td>1.000000</td>\n",
       "    </tr>\n",
       "  </tbody>\n",
       "</table>\n",
       "</div>"
      ],
      "text/plain": [
       "               f0        f1        f2   product\n",
       "f0       1.000000  0.000528 -0.000448 -0.001987\n",
       "f1       0.000528  1.000000  0.000779 -0.001012\n",
       "f2      -0.000448  0.000779  1.000000  0.445871\n",
       "product -0.001987 -0.001012  0.445871  1.000000"
      ]
     },
     "execution_count": 66,
     "metadata": {},
     "output_type": "execute_result"
    }
   ],
   "source": [
    "data_2.corr()"
   ]
  },
  {
   "cell_type": "markdown",
   "metadata": {},
   "source": [
    "<a id='1_corr'></a>Корреляция между столбцами во всех таблицах достаточно слабая, мультиколлинеарности нет. Для второго региона есть очень сильная линейная связь целевого признака и столбца `'f2'`, так как коэффициент корреляции равен 0,999.\n",
    "\n",
    "Изучим первые 5 строк первой таблицы, так как данные в таблицах идентичны по условию."
   ]
  },
  {
   "cell_type": "code",
   "execution_count": 67,
   "metadata": {
    "scrolled": true
   },
   "outputs": [
    {
     "data": {
      "text/html": [
       "<div>\n",
       "<style scoped>\n",
       "    .dataframe tbody tr th:only-of-type {\n",
       "        vertical-align: middle;\n",
       "    }\n",
       "\n",
       "    .dataframe tbody tr th {\n",
       "        vertical-align: top;\n",
       "    }\n",
       "\n",
       "    .dataframe thead th {\n",
       "        text-align: right;\n",
       "    }\n",
       "</style>\n",
       "<table border=\"1\" class=\"dataframe\">\n",
       "  <thead>\n",
       "    <tr style=\"text-align: right;\">\n",
       "      <th></th>\n",
       "      <th>id</th>\n",
       "      <th>f0</th>\n",
       "      <th>f1</th>\n",
       "      <th>f2</th>\n",
       "      <th>product</th>\n",
       "    </tr>\n",
       "  </thead>\n",
       "  <tbody>\n",
       "    <tr>\n",
       "      <th>0</th>\n",
       "      <td>txEyH</td>\n",
       "      <td>0.705745</td>\n",
       "      <td>-0.497823</td>\n",
       "      <td>1.221170</td>\n",
       "      <td>105.280062</td>\n",
       "    </tr>\n",
       "    <tr>\n",
       "      <th>1</th>\n",
       "      <td>2acmU</td>\n",
       "      <td>1.334711</td>\n",
       "      <td>-0.340164</td>\n",
       "      <td>4.365080</td>\n",
       "      <td>73.037750</td>\n",
       "    </tr>\n",
       "    <tr>\n",
       "      <th>2</th>\n",
       "      <td>409Wp</td>\n",
       "      <td>1.022732</td>\n",
       "      <td>0.151990</td>\n",
       "      <td>1.419926</td>\n",
       "      <td>85.265647</td>\n",
       "    </tr>\n",
       "    <tr>\n",
       "      <th>3</th>\n",
       "      <td>iJLyR</td>\n",
       "      <td>-0.032172</td>\n",
       "      <td>0.139033</td>\n",
       "      <td>2.978566</td>\n",
       "      <td>168.620776</td>\n",
       "    </tr>\n",
       "    <tr>\n",
       "      <th>4</th>\n",
       "      <td>Xdl7t</td>\n",
       "      <td>1.988431</td>\n",
       "      <td>0.155413</td>\n",
       "      <td>4.751769</td>\n",
       "      <td>154.036647</td>\n",
       "    </tr>\n",
       "  </tbody>\n",
       "</table>\n",
       "</div>"
      ],
      "text/plain": [
       "      id        f0        f1        f2     product\n",
       "0  txEyH  0.705745 -0.497823  1.221170  105.280062\n",
       "1  2acmU  1.334711 -0.340164  4.365080   73.037750\n",
       "2  409Wp  1.022732  0.151990  1.419926   85.265647\n",
       "3  iJLyR -0.032172  0.139033  2.978566  168.620776\n",
       "4  Xdl7t  1.988431  0.155413  4.751769  154.036647"
      ]
     },
     "execution_count": 67,
     "metadata": {},
     "output_type": "execute_result"
    }
   ],
   "source": [
    "data_0.head(5)"
   ]
  },
  {
   "cell_type": "markdown",
   "metadata": {},
   "source": [
    "Каждый объект в таблицах - это данные геологоразведки трёх регионов:\n",
    "\n",
    "- `'id'` — уникальный идентификатор скважины;\n",
    "- `'f0'`, `'f1'`, `'f2'` — признаки;\n",
    "- `'product'` — целевой признак (объём запасов в скважине, тыс. баррелей).\n",
    "\n",
    "В каждом датасете 5 столбцов, 100 000 строк, пропусков нет, дубликатов нет, мультиколлинеарности нет. Средние признаков во всех трех таблицах отличны от нуля, значит, данные необходимо масштабировать. Необходимо убрать из таблиц столбец `'id'`, так как он не является признаком объектов."
   ]
  },
  {
   "cell_type": "markdown",
   "metadata": {},
   "source": [
    "### Выбор значимых признаков\n",
    "\n",
    "Удалим из таблиц столбец `'id'`, так как он не относится к признакам объектов."
   ]
  },
  {
   "cell_type": "code",
   "execution_count": 68,
   "metadata": {},
   "outputs": [],
   "source": [
    "data_0 = data_0.drop(columns='id')\n",
    "data_1 = data_1.drop(columns='id')\n",
    "data_2 = data_2.drop(columns='id')"
   ]
  },
  {
   "cell_type": "markdown",
   "metadata": {},
   "source": [
    "### Разбиение данных на выборки"
   ]
  },
  {
   "cell_type": "markdown",
   "metadata": {},
   "source": [
    "Для создания качественной модели данные необходимо разбить на обучающую и валидационную выборки. На валидационной выборке проведем оценку качества модели и проанализируем результаты. \n",
    "\n",
    "Отделим целевой признак каждой таблицы и запишем его в соответствующие переменные `target_0`, `target_1`, `target_2`. Остальные признаки запишем в переменные `features_0`, `features_1`, `features_2`. "
   ]
  },
  {
   "cell_type": "code",
   "execution_count": 69,
   "metadata": {},
   "outputs": [],
   "source": [
    "features_0 = data_0.drop(columns='product')\n",
    "target_0 = data_0['product']\n",
    "\n",
    "features_1 = data_1.drop(columns='product')\n",
    "target_1 = data_1['product']\n",
    "\n",
    "features_2 = data_2.drop(columns='product')\n",
    "target_2 = data_2['product']"
   ]
  },
  {
   "cell_type": "markdown",
   "metadata": {},
   "source": [
    "Размеры обучающей и валидационной выборок составляют 75 % и 25 % от общих данных. Отделим от общих данных валидационую выборку функцией `train_test_split()`. Чтобы зафиксировать случайное разбиение на выборки, зафиксируем параметр случайного состояния `random_state`."
   ]
  },
  {
   "cell_type": "code",
   "execution_count": 70,
   "metadata": {},
   "outputs": [],
   "source": [
    "state = np.random.RandomState(12345)"
   ]
  },
  {
   "cell_type": "code",
   "execution_count": 71,
   "metadata": {},
   "outputs": [],
   "source": [
    "features_0_train, features_0_valid, target_0_train, target_0_valid = train_test_split(\n",
    "    features_0, target_0, test_size=0.25, random_state=state)\n",
    "\n",
    "features_1_train, features_1_valid, target_1_train, target_1_valid = train_test_split(\n",
    "    features_1, target_1, test_size=0.25, random_state=state)\n",
    "\n",
    "features_2_train, features_2_valid, target_2_train, target_2_valid = train_test_split(\n",
    "    features_2, target_2, test_size=0.25, random_state=state)"
   ]
  },
  {
   "cell_type": "markdown",
   "metadata": {},
   "source": [
    "Выведем размеры полученных выборок."
   ]
  },
  {
   "cell_type": "code",
   "execution_count": 72,
   "metadata": {},
   "outputs": [
    {
     "name": "stdout",
     "output_type": "stream",
     "text": [
      "(75000, 3)\n",
      "(25000, 3)\n"
     ]
    }
   ],
   "source": [
    "print(features_0_train.shape,'\\n',features_0_valid.shape,sep='')"
   ]
  },
  {
   "cell_type": "markdown",
   "metadata": {},
   "source": [
    "### Масштабирование признаков"
   ]
  },
  {
   "cell_type": "markdown",
   "metadata": {},
   "source": [
    "Чтобы для модели они были равнозначны по влиянию на целевой признак, их нужно масштабировать методом стандартизации `StandardScaler()`."
   ]
  },
  {
   "cell_type": "code",
   "execution_count": 73,
   "metadata": {},
   "outputs": [],
   "source": [
    "pd.options.mode.chained_assignment = None\n",
    "\n",
    "columns = ['f0','f1','f2']\n",
    "\n",
    "scaler = StandardScaler()\n",
    "scaler.fit(features_0_train)\n",
    "\n",
    "features_0_train[columns] = scaler.transform(features_0_train[columns])\n",
    "features_0_valid[columns] = scaler.transform(features_0_valid[columns])\n",
    "\n",
    "scaler = StandardScaler()\n",
    "scaler.fit(features_1_train)\n",
    "\n",
    "features_1_train[columns] = scaler.transform(features_1_train[columns])\n",
    "features_1_valid[columns] = scaler.transform(features_1_valid[columns])\n",
    "\n",
    "scaler = StandardScaler()\n",
    "scaler.fit(features_2_train)\n",
    "\n",
    "features_2_train[columns] = scaler.transform(features_2_train[columns])\n",
    "features_2_valid[columns] = scaler.transform(features_2_valid[columns])"
   ]
  },
  {
   "cell_type": "markdown",
   "metadata": {},
   "source": [
    "## Обучение и проверка модели"
   ]
  },
  {
   "cell_type": "markdown",
   "metadata": {},
   "source": [
    "### Обучение модели"
   ]
  },
  {
   "cell_type": "markdown",
   "metadata": {},
   "source": [
    "Обучим модель линейной регрессии для каждого региона и оценим качество предсказаний на валидационной выборке по метрике RMSE и коэффициенту детерминации R2."
   ]
  },
  {
   "cell_type": "markdown",
   "metadata": {},
   "source": [
    "#### Первый регион"
   ]
  },
  {
   "cell_type": "markdown",
   "metadata": {},
   "source": [
    "Обучим модель линейной регрессии на данных первого региона. Предсказания сохраним ввиде объекта `Series` с исходными индексами для соответствующих скважин. Выведем метрики RMSE и R2."
   ]
  },
  {
   "cell_type": "code",
   "execution_count": 74,
   "metadata": {},
   "outputs": [
    {
     "name": "stdout",
     "output_type": "stream",
     "text": [
      "RMSE модели линейной регрессии на валидационной выборке: 37.5794217150813\n",
      "Средний запас предсказанного сырья: 92.59256778438005\n"
     ]
    }
   ],
   "source": [
    "model = LinearRegression()\n",
    "\n",
    "model.fit(features_0_train, target_0_train)\n",
    "predictions_0_valid = pd.Series(data = model.predict(features_0_valid),\n",
    "                                index=features_0_valid.index.to_list())\n",
    "\n",
    "print(\"RMSE модели линейной регрессии на валидационной выборке:\",\n",
    "      (mean_squared_error(target_0_valid,predictions_0_valid))**0.5)\n",
    "print(\"Средний запас предсказанного сырья:\", predictions_0_valid.mean())"
   ]
  },
  {
   "cell_type": "markdown",
   "metadata": {},
   "source": [
    "Найдем коэффициент детерминации R2."
   ]
  },
  {
   "cell_type": "code",
   "execution_count": 75,
   "metadata": {
    "scrolled": true
   },
   "outputs": [
    {
     "name": "stdout",
     "output_type": "stream",
     "text": [
      "0.27994321524487786\n"
     ]
    }
   ],
   "source": [
    "print(r2_score(target_0_valid,predictions_0_valid))"
   ]
  },
  {
   "cell_type": "markdown",
   "metadata": {},
   "source": [
    "RMSE модели на валидационной выборке достаточно велико и составляет почти треть от среднего предсказанного запаса сырья. Коэффициент детерминации больше нуля и имеет достаточно большое значение, значит, модель работает значительно лучше, чем оценка запасов средним."
   ]
  },
  {
   "cell_type": "markdown",
   "metadata": {},
   "source": [
    "#### Второй регион"
   ]
  },
  {
   "cell_type": "markdown",
   "metadata": {},
   "source": [
    "Аналогично обучим и проанализируем модель для второго региона."
   ]
  },
  {
   "cell_type": "code",
   "execution_count": 76,
   "metadata": {},
   "outputs": [
    {
     "name": "stdout",
     "output_type": "stream",
     "text": [
      "RMSE модели линейной регрессии на валидационной выборке: 0.8897367737680651\n",
      "Средний запас предсказанного сырья: 68.76995145799779\n"
     ]
    }
   ],
   "source": [
    "model = LinearRegression()\n",
    "\n",
    "model.fit(features_1_train, target_1_train)\n",
    "predictions_1_valid = pd.Series(data = model.predict(features_1_valid),\n",
    "                                index=features_1_valid.index.to_list())\n",
    "\n",
    "print(\"RMSE модели линейной регрессии на валидационной выборке:\",\n",
    "      (mean_squared_error(target_1_valid,predictions_1_valid))**0.5)\n",
    "print(\"Средний запас предсказанного сырья:\", predictions_1_valid.mean())"
   ]
  },
  {
   "cell_type": "markdown",
   "metadata": {},
   "source": [
    "Найдем коэффициент детерминации R2."
   ]
  },
  {
   "cell_type": "code",
   "execution_count": 77,
   "metadata": {},
   "outputs": [
    {
     "name": "stdout",
     "output_type": "stream",
     "text": [
      "0.9996264922748638\n"
     ]
    }
   ],
   "source": [
    "print(r2_score(target_1_valid,predictions_1_valid))"
   ]
  },
  {
   "cell_type": "markdown",
   "metadata": {},
   "source": [
    "RMSE модели на валидационной выборке очень мало - оно почти на два порядка меньше среднего предсказанного запаса сырья. Коэффициент детерминации почти равен единице - модель практически идеально предсказывает запасы сырья. Вероятно, это обусловлено тем, что для этих данных между целевым признаком и одним из признаков был очень высокий [коэффициент корреляции](#1_corr)."
   ]
  },
  {
   "cell_type": "markdown",
   "metadata": {},
   "source": [
    "#### Третий регион"
   ]
  },
  {
   "cell_type": "markdown",
   "metadata": {},
   "source": [
    "Аналогично обучим и проанализируем модель для третьего региона."
   ]
  },
  {
   "cell_type": "code",
   "execution_count": 78,
   "metadata": {},
   "outputs": [
    {
     "name": "stdout",
     "output_type": "stream",
     "text": [
      "RMSE модели линейной регрессии на валидационной выборке: 39.958042459521614\n",
      "Средний запас предсказанного сырья: 95.08752812252328\n"
     ]
    }
   ],
   "source": [
    "model = LinearRegression()\n",
    "\n",
    "model.fit(features_2_train, target_2_train)\n",
    "predictions_2_valid = pd.Series(data = model.predict(features_2_valid),\n",
    "                                index=features_2_valid.index.to_list())\n",
    "\n",
    "print(\"RMSE модели линейной регрессии на валидационной выборке:\",\n",
    "      (mean_squared_error(target_2_valid,predictions_2_valid))**0.5)\n",
    "print(\"Средний запас предсказанного сырья:\", predictions_2_valid.mean())"
   ]
  },
  {
   "cell_type": "markdown",
   "metadata": {},
   "source": [
    "Найдем коэффициент детерминации R2."
   ]
  },
  {
   "cell_type": "code",
   "execution_count": 79,
   "metadata": {},
   "outputs": [
    {
     "name": "stdout",
     "output_type": "stream",
     "text": [
      "0.20261508041163934\n"
     ]
    }
   ],
   "source": [
    "print(r2_score(target_2_valid,predictions_2_valid))"
   ]
  },
  {
   "cell_type": "markdown",
   "metadata": {},
   "source": [
    "RMSE модели на валидационной выборке достаточно велико и составляет почти треть от среднего предсказанного запаса сырья. Коэффициент детерминации больше нуля и имеет достаточно большое значение, значит, модель работает значительно лучше, чем оценка запасов средним."
   ]
  },
  {
   "cell_type": "markdown",
   "metadata": {},
   "source": [
    "### Выводы"
   ]
  },
  {
   "cell_type": "markdown",
   "metadata": {},
   "source": [
    "Для первого и третьего регионов модели работают похоже и предсказывают с RMSE, равным примерно треть от среднего предсказанных запасов. Коэффициенты детерминации для них составляют 0,28 и 0,20 соответственно. Модели предсказывают значительно лучше, чем оценка запасов средним.\n",
    "\n",
    "Для второго региона работа модели сильно отличается от двух других. Модель линейной регрессии предсказывает запасы почти идеально: RMSE модели на валидационной выборке равен 0.89, а коэффициент детерминации R2 почти равен единице. Это может быть связано с тем, что для этих данных между целевым признаком и одним из признаков коэффициент корреляции Пирсона был очень высоким и равнялся 0,999."
   ]
  },
  {
   "cell_type": "markdown",
   "metadata": {},
   "source": [
    "## Подготовка к расчёту прибыли"
   ]
  },
  {
   "cell_type": "markdown",
   "metadata": {},
   "source": [
    "Сохраним все ключевые значения для расчётов прибыли в отдельных переменных.\n",
    "\n",
    "Данные задачи:\n",
    "- При разведке региона исследуют 500 точек, из которых с помощью машинного обучения выбирают 200 лучших для разработки.\n",
    "- Бюджет на разработку скважин в регионе — 10 млрд рублей.\n",
    "- При нынешних ценах один баррель сырья приносит 450 рублей дохода. Доход с каждой единицы продукта составляет 450 тыс. рублей, поскольку объём указан в тысячах баррелей.\n",
    "- После оценки рисков нужно оставить лишь те регионы, в которых вероятность убытков меньше 2,5 %. Среди них выбирают регион с наибольшей средней прибылью."
   ]
  },
  {
   "cell_type": "code",
   "execution_count": 80,
   "metadata": {},
   "outputs": [],
   "source": [
    "#Количество разрабатываемых скважин в регионе - 200.\n",
    "\n",
    "N_BUILT_WELLS = 200\n",
    "\n",
    "#Количество исследуемых скважин в регионе - 500.\n",
    "\n",
    "N_RESEARCHED_WELLS = 500\n",
    "\n",
    "#Бюджет на разработку скважин в регионе — 10 000 000 тыс. руб.\n",
    "\n",
    "BUDGET = 10**7\n",
    "\n",
    "#Стоимость 1 000 баррелей - 450 тыс. руб.\n",
    "\n",
    "PRICE = 450"
   ]
  },
  {
   "cell_type": "markdown",
   "metadata": {},
   "source": [
    "Рассчитаем достаточный объём сырья для безубыточной разработки новой скважины.\n",
    "\n",
    "Минимальный запас нефти в месторождении, при котором разработка скважины остается безубыточной, определяется нулевой прибылью. В данном случае мы можем вычислить прибыль, как суммарный доход за полный запас нефти в разрабатываемых скважинах региона минус бюджет на разработку скважин в регионе. Тогда минимальный запас нефти для одной скважины будет равен бюджету на регион, деленному на количество разрабатываемых скважин в одном регионе и стоимость 1 000 баррелей."
   ]
  },
  {
   "cell_type": "code",
   "execution_count": 81,
   "metadata": {},
   "outputs": [
    {
     "name": "stdout",
     "output_type": "stream",
     "text": [
      "111 тыс. баррелей\n"
     ]
    }
   ],
   "source": [
    "min_one_reserve = BUDGET / N_BUILT_WELLS / PRICE\n",
    "\n",
    "print(round(min_one_reserve),'тыс. баррелей')"
   ]
  },
  {
   "cell_type": "markdown",
   "metadata": {},
   "source": [
    "Выведем средний запас нефти среди скважин в каждом регионе."
   ]
  },
  {
   "cell_type": "code",
   "execution_count": 82,
   "metadata": {},
   "outputs": [
    {
     "name": "stdout",
     "output_type": "stream",
     "text": [
      "92\n",
      "69\n",
      "95\n"
     ]
    }
   ],
   "source": [
    "print(round(target_0.mean()))\n",
    "print(round(target_1.mean()))\n",
    "print(round(target_2.mean()))"
   ]
  },
  {
   "cell_type": "markdown",
   "metadata": {},
   "source": [
    "Полученный минимальный запас больше, чем средний запас сырья среди скважин во всех трех регионах. Значит, для получения положительной прибыли необходимо использовать модель для прогнозирования объема запасов и выбора подходящих скважин."
   ]
  },
  {
   "cell_type": "markdown",
   "metadata": {},
   "source": [
    "## Расчёт прибыли и рисков "
   ]
  },
  {
   "cell_type": "markdown",
   "metadata": {},
   "source": [
    "Напишем функцию для расчёта прибыли по выбранным скважинам и предсказаниям модели. На вход она принимает два объекта `Series`: с предсказанными запасами для исследуемых скважин и реальными. По предсказаниям фильтрует заданное количество скважин для разработки с максимальными запасами. Для них по реальным запасам вычисляет прибыль, как доход от полного запаса сырья в скважинах минус бюджет на разработку скважин в регионе."
   ]
  },
  {
   "cell_type": "code",
   "execution_count": 83,
   "metadata": {},
   "outputs": [],
   "source": [
    "def income(predicted_reserve,real_reserve):\n",
    "    \n",
    "    #Выберем заданное количество скважин с наибольшими значениями предсказанных запасов\n",
    "    \n",
    "    predicted_reserve = predicted_reserve.sort_values(ascending=False).head(N_BUILT_WELLS)\n",
    "    \n",
    "    return (real_reserve[predicted_reserve.index].sum() * PRICE - BUDGET)"
   ]
  },
  {
   "cell_type": "markdown",
   "metadata": {},
   "source": [
    "### Первый регион"
   ]
  },
  {
   "cell_type": "markdown",
   "metadata": {},
   "source": [
    "Для расчета рисков и прибыли с помощью техники Bootstrap с 1000 выборок найдем распределение прибыли. Для этого напишем функцию `bootstrap()`, которая на вход принимает предсказания `predictions_valid`, целевой признак `target_valid` и количество выборок `n_samples`. Функция возвращает `Series` с значениями прибыли для каждой выборки."
   ]
  },
  {
   "cell_type": "code",
   "execution_count": 84,
   "metadata": {},
   "outputs": [],
   "source": [
    "def bootstrap(predictions_valid,target_valid,n_samples=1000):\n",
    "    \n",
    "    values = []\n",
    "    \n",
    "    for i in range(n_samples):\n",
    "    \n",
    "        predictions_valid_sampled = predictions_valid.sample(n = N_RESEARCHED_WELLS,\n",
    "                                                             random_state=state,\n",
    "                                                             replace=True)\n",
    "    \n",
    "        values.append(income(predictions_valid_sampled,target_valid))\n",
    "\n",
    "    return pd.Series(values)"
   ]
  },
  {
   "cell_type": "markdown",
   "metadata": {},
   "source": [
    "Применим функцию `bootstrap()` для первого региона."
   ]
  },
  {
   "cell_type": "code",
   "execution_count": 85,
   "metadata": {},
   "outputs": [],
   "source": [
    "values_0 = bootstrap(predictions_0_valid,target_0_valid)"
   ]
  },
  {
   "cell_type": "markdown",
   "metadata": {},
   "source": [
    "Визуализируем полученное распределение на гистограмме."
   ]
  },
  {
   "cell_type": "code",
   "execution_count": 86,
   "metadata": {},
   "outputs": [
    {
     "data": {
      "image/png": "[encoded data removed]",
      "text/plain": [
       "<Figure size 432x288 with 1 Axes>"
      ]
     },
     "metadata": {
      "needs_background": "light"
     },
     "output_type": "display_data"
    }
   ],
   "source": [
    "(values_0.plot(kind= 'hist',\n",
    "               bins=20, \n",
    "               figsize=(6,4), \n",
    "               legend = False, \n",
    "               fontsize = 12)\n",
    "         .set_title('Распределение прибыли\\n', \n",
    "                    fontsize = 16, \n",
    "                    color = 'SteelBlue'));\n",
    "\n",
    "plt.xlabel('Прибыль, млн. руб',fontsize = 12)\n",
    "plt.ylabel('Количество',fontsize = 12)\n",
    "plt.show()"
   ]
  },
  {
   "cell_type": "markdown",
   "metadata": {},
   "source": [
    "Найдем среднюю прибыль и сохраним ее в список `mean_income`."
   ]
  },
  {
   "cell_type": "code",
   "execution_count": 87,
   "metadata": {},
   "outputs": [
    {
     "name": "stdout",
     "output_type": "stream",
     "text": [
      "Средняя прибыль: 394284 тыс. руб\n"
     ]
    }
   ],
   "source": [
    "mean_income = []\n",
    "\n",
    "mean_income.append(values_0.mean())\n",
    "\n",
    "print(\"Средняя прибыль:\", round(mean_income[-1]), 'тыс. руб')"
   ]
  },
  {
   "cell_type": "markdown",
   "metadata": {},
   "source": [
    "Найдем 95%-й доверительный интервал. Для этого напишем функцию, которая принимает на входе `Series`, возвращает рассчитанный для нее доверительный интервал и выводит его на экран."
   ]
  },
  {
   "cell_type": "code",
   "execution_count": 88,
   "metadata": {},
   "outputs": [],
   "source": [
    "def confidence_interval(values):\n",
    "    \n",
    "    conf_interval = st.t.interval(alpha=0.95,\n",
    "                                  df=values.count()-1,\n",
    "                                  loc=values.mean(),\n",
    "                                  scale=values.sem())\n",
    "    \n",
    "    print(\"95%-ый доверительный интервал:\", conf_interval)\n",
    "    \n",
    "    return conf_interval"
   ]
  },
  {
   "cell_type": "markdown",
   "metadata": {},
   "source": [
    "Найдем доверительный интервал для первого региона."
   ]
  },
  {
   "cell_type": "code",
   "execution_count": 89,
   "metadata": {},
   "outputs": [
    {
     "name": "stdout",
     "output_type": "stream",
     "text": [
      "95%-ый доверительный интервал: (378182.9698343011, 410385.85284679994)\n"
     ]
    }
   ],
   "source": [
    "confidence_interval_0 = confidence_interval(values_0)"
   ]
  },
  {
   "cell_type": "markdown",
   "metadata": {},
   "source": [
    "Найдем риск убытков - вероятность того, что прибыль будет отрицательной. Для этого нужно найти долю отрицательных значений прибыли в распределении. Напишем функцию `risk_of_losses()`, которая на входе принимает `Series`, вычисляет, возвращает и выводит на экран риск убытков."
   ]
  },
  {
   "cell_type": "code",
   "execution_count": 90,
   "metadata": {},
   "outputs": [],
   "source": [
    "def risk_of_losses(values):\n",
    "    \n",
    "    risk = values[values < 0].count() / values.count()\n",
    "    \n",
    "    print('Риск убытков:',risk)\n",
    "    \n",
    "    return risk"
   ]
  },
  {
   "cell_type": "markdown",
   "metadata": {},
   "source": [
    "Применим функцию `risk_of_losses()` к первому региону и запишем найденное значение в список `risks_of_losses`."
   ]
  },
  {
   "cell_type": "code",
   "execution_count": 91,
   "metadata": {},
   "outputs": [
    {
     "name": "stdout",
     "output_type": "stream",
     "text": [
      "Риск убытков: 0.061\n"
     ]
    }
   ],
   "source": [
    "risks_of_losses = []\n",
    "\n",
    "risks_of_losses.append(risk_of_losses(values_0))"
   ]
  },
  {
   "cell_type": "markdown",
   "metadata": {},
   "source": [
    "### Второй регион"
   ]
  },
  {
   "cell_type": "markdown",
   "metadata": {},
   "source": [
    "Аналогично рассчитаем прибыль и риски для второго региона. Найдем распределение прибыли функцией `bootstrap()`."
   ]
  },
  {
   "cell_type": "code",
   "execution_count": 92,
   "metadata": {},
   "outputs": [],
   "source": [
    "values_1 = bootstrap(predictions_1_valid,target_1_valid)"
   ]
  },
  {
   "cell_type": "markdown",
   "metadata": {},
   "source": [
    "Найдем среднюю прибыль и сохраним ее в список `mean_income`."
   ]
  },
  {
   "cell_type": "code",
   "execution_count": 93,
   "metadata": {},
   "outputs": [
    {
     "name": "stdout",
     "output_type": "stream",
     "text": [
      "Средняя прибыль: 454736 тыс. руб\n"
     ]
    }
   ],
   "source": [
    "mean_income.append(values_1.mean())\n",
    "\n",
    "print(\"Средняя прибыль:\", round(mean_income[-1]), 'тыс. руб')"
   ]
  },
  {
   "cell_type": "markdown",
   "metadata": {},
   "source": [
    "Найдем доверительный интервал для второго региона."
   ]
  },
  {
   "cell_type": "code",
   "execution_count": 94,
   "metadata": {},
   "outputs": [
    {
     "name": "stdout",
     "output_type": "stream",
     "text": [
      "95%-ый доверительный интервал: (441927.75899029244, 467544.9592044231)\n"
     ]
    }
   ],
   "source": [
    "confidence_interval_1 = confidence_interval(values_1)"
   ]
  },
  {
   "cell_type": "markdown",
   "metadata": {},
   "source": [
    "Применим функцию `risk_of_losses()` ко второму региону и запишем найденное значение в список `risks_of_losses`."
   ]
  },
  {
   "cell_type": "code",
   "execution_count": 95,
   "metadata": {},
   "outputs": [
    {
     "name": "stdout",
     "output_type": "stream",
     "text": [
      "Риск убытков: 0.007\n"
     ]
    }
   ],
   "source": [
    "risks_of_losses.append(risk_of_losses(values_1))"
   ]
  },
  {
   "cell_type": "markdown",
   "metadata": {},
   "source": [
    "### Третий регион"
   ]
  },
  {
   "cell_type": "markdown",
   "metadata": {},
   "source": [
    "Аналогично рассчитаем прибыль и риски для третьего региона. Найдем распределение прибыли."
   ]
  },
  {
   "cell_type": "code",
   "execution_count": 96,
   "metadata": {},
   "outputs": [],
   "source": [
    "values_2 = bootstrap(predictions_2_valid,target_2_valid)"
   ]
  },
  {
   "cell_type": "markdown",
   "metadata": {},
   "source": [
    "Найдем среднюю прибыль и сохраним ее в список `mean_income`."
   ]
  },
  {
   "cell_type": "code",
   "execution_count": 97,
   "metadata": {},
   "outputs": [
    {
     "name": "stdout",
     "output_type": "stream",
     "text": [
      "Средняя прибыль: 353664 тыс. руб\n"
     ]
    }
   ],
   "source": [
    "mean_income.append(values_2.mean())\n",
    "\n",
    "print(\"Средняя прибыль:\", round(mean_income[-1]), 'тыс. руб')"
   ]
  },
  {
   "cell_type": "markdown",
   "metadata": {},
   "source": [
    "Найдем доверительный интервал для первого региона."
   ]
  },
  {
   "cell_type": "code",
   "execution_count": 98,
   "metadata": {},
   "outputs": [
    {
     "name": "stdout",
     "output_type": "stream",
     "text": [
      "95%-ый доверительный интервал: (337905.0307126234, 369423.1643370454)\n"
     ]
    }
   ],
   "source": [
    "confidence_interval_2 = confidence_interval(values_2)"
   ]
  },
  {
   "cell_type": "markdown",
   "metadata": {},
   "source": [
    "Применим функцию `risk_of_losses()` к первому региону и запишем найденное значение в список `risks_of_losses`."
   ]
  },
  {
   "cell_type": "code",
   "execution_count": 99,
   "metadata": {},
   "outputs": [
    {
     "name": "stdout",
     "output_type": "stream",
     "text": [
      "Риск убытков: 0.076\n"
     ]
    }
   ],
   "source": [
    "risks_of_losses.append(risk_of_losses(values_2))"
   ]
  },
  {
   "cell_type": "markdown",
   "metadata": {},
   "source": [
    "### Выводы\n",
    "\n",
    "Выведем результаты расчета средней прибыли для каждого региона в тыс. руб."
   ]
  },
  {
   "cell_type": "code",
   "execution_count": 100,
   "metadata": {},
   "outputs": [
    {
     "data": {
      "text/plain": [
       "[394284.4113405505, 454736.3590973578, 353664.0975248344]"
      ]
     },
     "execution_count": 100,
     "metadata": {},
     "output_type": "execute_result"
    }
   ],
   "source": [
    "mean_income"
   ]
  },
  {
   "cell_type": "markdown",
   "metadata": {},
   "source": [
    "Выведем результаты расчета рисков убытков для каждого региона."
   ]
  },
  {
   "cell_type": "code",
   "execution_count": 101,
   "metadata": {},
   "outputs": [
    {
     "data": {
      "text/plain": [
       "[0.061, 0.007, 0.076]"
      ]
     },
     "execution_count": 101,
     "metadata": {},
     "output_type": "execute_result"
    }
   ],
   "source": [
    "risks_of_losses"
   ]
  },
  {
   "cell_type": "markdown",
   "metadata": {},
   "source": [
    "По условию для разработки могут подойти только те регионы, в которых вероятность убытков меньше 2,5 %. Среди них выбирают регион с наибольшей средней прибылью. Под это условие подходит только второй регион с вероятностью убытков 0,7 %. Наибольшая средняя прибыль также у второго региона - 455 млн. руб.\n",
    "\n",
    "Также для второго региона была получена модель линейной регрессии с наименьшим значением метрики RMSE - 0,89, что говорит о высоком качестве обученной модели. Это может быть связано с тем, что для этих данных между целевым признаком и одним из признаков коэффициент корреляции Пирсона был очень высоким и равнялся 0,999.\n",
    "\n",
    "Таким образом, на основе полученных моделей и проведенных расчетов в качестве региона для разработки можно предложить второй."
   ]
  }
 ],
 "metadata": {
  "ExecuteTimeLog": [
   {
    "duration": 404,
    "start_time": "2022-10-15T10:55:09.377Z"
   },
   {
    "duration": 1579,
    "start_time": "2022-10-15T10:56:02.710Z"
   },
   {
    "duration": 32,
    "start_time": "2022-10-15T10:56:48.905Z"
   },
   {
    "duration": 30,
    "start_time": "2022-10-15T10:57:16.582Z"
   },
   {
    "duration": 15,
    "start_time": "2022-10-15T10:58:10.454Z"
   },
   {
    "duration": 17,
    "start_time": "2022-10-15T11:14:32.794Z"
   },
   {
    "duration": 10,
    "start_time": "2022-10-15T11:38:53.210Z"
   },
   {
    "duration": 673,
    "start_time": "2022-10-15T11:42:51.392Z"
   },
   {
    "duration": 46,
    "start_time": "2022-10-15T11:43:16.945Z"
   },
   {
    "duration": 10,
    "start_time": "2022-10-15T11:44:21.404Z"
   },
   {
    "duration": 28,
    "start_time": "2022-10-15T11:55:13.334Z"
   },
   {
    "duration": 251,
    "start_time": "2022-10-15T11:58:02.745Z"
   },
   {
    "duration": 3,
    "start_time": "2022-10-15T11:58:26.236Z"
   },
   {
    "duration": 41,
    "start_time": "2022-10-15T11:58:32.555Z"
   },
   {
    "duration": 15,
    "start_time": "2022-10-15T12:21:56.435Z"
   },
   {
    "duration": 20,
    "start_time": "2022-10-15T12:22:18.539Z"
   },
   {
    "duration": 24,
    "start_time": "2022-10-15T12:22:57.483Z"
   },
   {
    "duration": 18,
    "start_time": "2022-10-15T12:23:37.310Z"
   },
   {
    "duration": 14,
    "start_time": "2022-10-15T12:23:46.948Z"
   },
   {
    "duration": 16,
    "start_time": "2022-10-15T12:23:47.663Z"
   },
   {
    "duration": 16,
    "start_time": "2022-10-15T12:23:48.203Z"
   },
   {
    "duration": 1070,
    "start_time": "2022-10-15T14:02:48.526Z"
   },
   {
    "duration": 1631,
    "start_time": "2022-10-15T14:02:49.598Z"
   },
   {
    "duration": 32,
    "start_time": "2022-10-15T14:02:51.230Z"
   },
   {
    "duration": 15,
    "start_time": "2022-10-15T14:02:51.264Z"
   },
   {
    "duration": 13,
    "start_time": "2022-10-15T14:02:51.281Z"
   },
   {
    "duration": 12,
    "start_time": "2022-10-15T14:02:51.296Z"
   },
   {
    "duration": 29,
    "start_time": "2022-10-15T14:02:51.310Z"
   },
   {
    "duration": 4,
    "start_time": "2022-10-15T14:02:51.341Z"
   },
   {
    "duration": 47,
    "start_time": "2022-10-15T14:02:51.347Z"
   },
   {
    "duration": 97,
    "start_time": "2022-10-15T14:02:51.396Z"
   },
   {
    "duration": 195,
    "start_time": "2022-10-15T14:02:51.495Z"
   },
   {
    "duration": 88,
    "start_time": "2022-10-15T14:55:58.189Z"
   },
   {
    "duration": 3,
    "start_time": "2022-10-15T15:00:58.097Z"
   },
   {
    "duration": 55,
    "start_time": "2022-10-15T15:01:25.230Z"
   },
   {
    "duration": 5,
    "start_time": "2022-10-15T15:01:25.600Z"
   },
   {
    "duration": 4,
    "start_time": "2022-10-15T15:02:56.799Z"
   },
   {
    "duration": 4,
    "start_time": "2022-10-15T15:03:10.699Z"
   },
   {
    "duration": 8,
    "start_time": "2022-10-15T15:03:49.943Z"
   },
   {
    "duration": 10,
    "start_time": "2022-10-15T15:03:57.471Z"
   },
   {
    "duration": 1150,
    "start_time": "2022-10-15T17:25:48.326Z"
   },
   {
    "duration": 712,
    "start_time": "2022-10-15T17:25:49.477Z"
   },
   {
    "duration": 35,
    "start_time": "2022-10-15T17:25:50.190Z"
   },
   {
    "duration": 16,
    "start_time": "2022-10-15T17:25:50.226Z"
   },
   {
    "duration": 22,
    "start_time": "2022-10-15T17:25:54.795Z"
   },
   {
    "duration": 4,
    "start_time": "2022-10-15T17:49:54.833Z"
   },
   {
    "duration": 6,
    "start_time": "2022-10-15T17:57:37.499Z"
   },
   {
    "duration": 3,
    "start_time": "2022-10-15T17:57:59.399Z"
   },
   {
    "duration": 4,
    "start_time": "2022-10-15T17:58:13.574Z"
   },
   {
    "duration": 4,
    "start_time": "2022-10-15T17:58:31.446Z"
   },
   {
    "duration": 4,
    "start_time": "2022-10-15T18:01:07.270Z"
   },
   {
    "duration": 4,
    "start_time": "2022-10-15T18:01:25.655Z"
   },
   {
    "duration": 4,
    "start_time": "2022-10-15T18:04:01.360Z"
   },
   {
    "duration": 102,
    "start_time": "2022-10-15T18:12:45.195Z"
   },
   {
    "duration": 3,
    "start_time": "2022-10-15T18:12:54.468Z"
   },
   {
    "duration": 419,
    "start_time": "2022-10-15T18:12:54.474Z"
   },
   {
    "duration": 50,
    "start_time": "2022-10-15T18:12:54.896Z"
   },
   {
    "duration": 9,
    "start_time": "2022-10-15T18:12:54.948Z"
   },
   {
    "duration": 20,
    "start_time": "2022-10-15T18:12:54.960Z"
   },
   {
    "duration": 21,
    "start_time": "2022-10-15T18:12:54.982Z"
   },
   {
    "duration": 53,
    "start_time": "2022-10-15T18:12:55.005Z"
   },
   {
    "duration": 4,
    "start_time": "2022-10-15T18:12:55.060Z"
   },
   {
    "duration": 20,
    "start_time": "2022-10-15T18:12:55.066Z"
   },
   {
    "duration": 50,
    "start_time": "2022-10-15T18:12:55.087Z"
   },
   {
    "duration": 117,
    "start_time": "2022-10-15T18:12:55.139Z"
   },
   {
    "duration": 82,
    "start_time": "2022-10-15T18:12:55.258Z"
   },
   {
    "duration": 94,
    "start_time": "2022-10-15T18:12:55.342Z"
   },
   {
    "duration": 20,
    "start_time": "2022-10-15T18:12:55.439Z"
   },
   {
    "duration": 77,
    "start_time": "2022-10-15T18:12:55.462Z"
   },
   {
    "duration": 98,
    "start_time": "2022-10-15T18:12:55.541Z"
   },
   {
    "duration": 10,
    "start_time": "2022-10-15T18:12:55.641Z"
   },
   {
    "duration": 6,
    "start_time": "2022-10-15T18:13:31.783Z"
   },
   {
    "duration": 4,
    "start_time": "2022-10-15T18:15:02.562Z"
   },
   {
    "duration": 5,
    "start_time": "2022-10-15T18:15:31.987Z"
   },
   {
    "duration": 5,
    "start_time": "2022-10-15T18:16:00.387Z"
   },
   {
    "duration": 4,
    "start_time": "2022-10-15T18:27:43.527Z"
   },
   {
    "duration": 3,
    "start_time": "2022-10-15T19:31:43.339Z"
   },
   {
    "duration": 9,
    "start_time": "2022-10-15T19:31:51.504Z"
   },
   {
    "duration": 4,
    "start_time": "2022-10-15T19:32:47.389Z"
   },
   {
    "duration": 3,
    "start_time": "2022-10-15T19:32:54.689Z"
   },
   {
    "duration": 349,
    "start_time": "2022-10-15T19:32:54.693Z"
   },
   {
    "duration": 32,
    "start_time": "2022-10-15T19:32:55.044Z"
   },
   {
    "duration": 8,
    "start_time": "2022-10-15T19:32:55.078Z"
   },
   {
    "duration": 16,
    "start_time": "2022-10-15T19:32:55.088Z"
   },
   {
    "duration": 9,
    "start_time": "2022-10-15T19:32:55.105Z"
   },
   {
    "duration": 25,
    "start_time": "2022-10-15T19:32:55.133Z"
   },
   {
    "duration": 4,
    "start_time": "2022-10-15T19:32:55.159Z"
   },
   {
    "duration": 73,
    "start_time": "2022-10-15T19:32:55.165Z"
   },
   {
    "duration": 94,
    "start_time": "2022-10-15T19:32:55.241Z"
   },
   {
    "duration": 20,
    "start_time": "2022-10-15T19:32:55.337Z"
   },
   {
    "duration": 101,
    "start_time": "2022-10-15T19:32:55.435Z"
   },
   {
    "duration": 17,
    "start_time": "2022-10-15T19:32:55.538Z"
   },
   {
    "duration": 6,
    "start_time": "2022-10-15T19:32:55.633Z"
   },
   {
    "duration": 99,
    "start_time": "2022-10-15T19:32:55.640Z"
   },
   {
    "duration": 5,
    "start_time": "2022-10-15T19:32:55.741Z"
   },
   {
    "duration": 8,
    "start_time": "2022-10-15T19:32:55.747Z"
   },
   {
    "duration": 3,
    "start_time": "2022-10-15T19:32:55.757Z"
   },
   {
    "duration": 13,
    "start_time": "2022-10-15T19:32:55.761Z"
   },
   {
    "duration": 0,
    "start_time": "2022-10-15T19:32:55.776Z"
   },
   {
    "duration": 0,
    "start_time": "2022-10-15T19:32:55.777Z"
   },
   {
    "duration": 18,
    "start_time": "2022-10-15T19:34:16.942Z"
   },
   {
    "duration": 3,
    "start_time": "2022-10-15T19:34:40.681Z"
   },
   {
    "duration": 341,
    "start_time": "2022-10-15T19:34:40.686Z"
   },
   {
    "duration": 35,
    "start_time": "2022-10-15T19:34:41.029Z"
   },
   {
    "duration": 10,
    "start_time": "2022-10-15T19:34:41.065Z"
   },
   {
    "duration": 20,
    "start_time": "2022-10-15T19:34:41.078Z"
   },
   {
    "duration": 33,
    "start_time": "2022-10-15T19:34:41.100Z"
   },
   {
    "duration": 35,
    "start_time": "2022-10-15T19:34:41.135Z"
   },
   {
    "duration": 3,
    "start_time": "2022-10-15T19:34:41.172Z"
   },
   {
    "duration": 27,
    "start_time": "2022-10-15T19:34:41.176Z"
   },
   {
    "duration": 6,
    "start_time": "2022-10-15T19:34:41.236Z"
   },
   {
    "duration": 22,
    "start_time": "2022-10-15T19:34:41.334Z"
   },
   {
    "duration": 79,
    "start_time": "2022-10-15T19:34:41.358Z"
   },
   {
    "duration": 133,
    "start_time": "2022-10-15T19:34:41.440Z"
   },
   {
    "duration": 183,
    "start_time": "2022-10-15T19:34:41.575Z"
   },
   {
    "duration": 7,
    "start_time": "2022-10-15T19:34:41.759Z"
   },
   {
    "duration": 22,
    "start_time": "2022-10-15T19:34:41.768Z"
   },
   {
    "duration": 25,
    "start_time": "2022-10-15T19:34:41.792Z"
   },
   {
    "duration": 21,
    "start_time": "2022-10-15T19:34:41.819Z"
   },
   {
    "duration": 633,
    "start_time": "2022-10-15T19:34:41.841Z"
   },
   {
    "duration": 0,
    "start_time": "2022-10-15T19:34:42.475Z"
   },
   {
    "duration": 0,
    "start_time": "2022-10-15T19:34:42.476Z"
   },
   {
    "duration": 3,
    "start_time": "2022-10-15T19:35:02.091Z"
   },
   {
    "duration": 365,
    "start_time": "2022-10-15T19:35:02.096Z"
   },
   {
    "duration": 34,
    "start_time": "2022-10-15T19:35:02.463Z"
   },
   {
    "duration": 9,
    "start_time": "2022-10-15T19:35:02.499Z"
   },
   {
    "duration": 31,
    "start_time": "2022-10-15T19:35:02.510Z"
   },
   {
    "duration": 11,
    "start_time": "2022-10-15T19:35:02.542Z"
   },
   {
    "duration": 36,
    "start_time": "2022-10-15T19:35:02.554Z"
   },
   {
    "duration": 5,
    "start_time": "2022-10-15T19:35:02.591Z"
   },
   {
    "duration": 40,
    "start_time": "2022-10-15T19:35:02.597Z"
   },
   {
    "duration": 95,
    "start_time": "2022-10-15T19:35:02.639Z"
   },
   {
    "duration": 99,
    "start_time": "2022-10-15T19:35:02.736Z"
   },
   {
    "duration": 6,
    "start_time": "2022-10-15T19:35:02.837Z"
   },
   {
    "duration": 13,
    "start_time": "2022-10-15T19:35:02.934Z"
   },
   {
    "duration": 91,
    "start_time": "2022-10-15T19:35:02.950Z"
   },
   {
    "duration": 96,
    "start_time": "2022-10-15T19:35:03.044Z"
   },
   {
    "duration": 8,
    "start_time": "2022-10-15T19:35:03.142Z"
   },
   {
    "duration": 13,
    "start_time": "2022-10-15T19:35:03.151Z"
   },
   {
    "duration": 5,
    "start_time": "2022-10-15T19:35:03.165Z"
   },
   {
    "duration": 631,
    "start_time": "2022-10-15T19:35:03.172Z"
   },
   {
    "duration": 6,
    "start_time": "2022-10-15T19:35:03.806Z"
   },
   {
    "duration": 26,
    "start_time": "2022-10-15T19:35:03.814Z"
   },
   {
    "duration": 1051,
    "start_time": "2022-10-16T09:31:31.341Z"
   },
   {
    "duration": 5,
    "start_time": "2022-10-16T09:33:24.512Z"
   },
   {
    "duration": 795,
    "start_time": "2022-10-16T09:33:24.519Z"
   },
   {
    "duration": 37,
    "start_time": "2022-10-16T09:33:25.316Z"
   },
   {
    "duration": 14,
    "start_time": "2022-10-16T09:33:25.355Z"
   },
   {
    "duration": 18,
    "start_time": "2022-10-16T09:33:25.371Z"
   },
   {
    "duration": 20,
    "start_time": "2022-10-16T09:33:25.391Z"
   },
   {
    "duration": 11,
    "start_time": "2022-10-16T09:33:25.412Z"
   },
   {
    "duration": 39,
    "start_time": "2022-10-16T09:33:25.425Z"
   },
   {
    "duration": 3,
    "start_time": "2022-10-16T09:33:25.466Z"
   },
   {
    "duration": 45,
    "start_time": "2022-10-16T09:33:25.471Z"
   },
   {
    "duration": 193,
    "start_time": "2022-10-16T09:33:25.519Z"
   },
   {
    "duration": 24,
    "start_time": "2022-10-16T09:33:25.713Z"
   },
   {
    "duration": 73,
    "start_time": "2022-10-16T09:33:25.739Z"
   },
   {
    "duration": 110,
    "start_time": "2022-10-16T09:33:25.814Z"
   },
   {
    "duration": 4,
    "start_time": "2022-10-16T09:33:25.925Z"
   },
   {
    "duration": 79,
    "start_time": "2022-10-16T09:33:25.931Z"
   },
   {
    "duration": 99,
    "start_time": "2022-10-16T09:33:26.012Z"
   },
   {
    "duration": 7,
    "start_time": "2022-10-16T09:33:26.112Z"
   },
   {
    "duration": 5,
    "start_time": "2022-10-16T09:33:26.120Z"
   },
   {
    "duration": 548,
    "start_time": "2022-10-16T09:33:26.127Z"
   },
   {
    "duration": 5,
    "start_time": "2022-10-16T09:33:26.676Z"
   },
   {
    "duration": 112,
    "start_time": "2022-10-16T09:33:26.683Z"
   },
   {
    "duration": 4,
    "start_time": "2022-10-16T09:33:36.846Z"
   },
   {
    "duration": 3,
    "start_time": "2022-10-16T10:12:34.022Z"
   },
   {
    "duration": 332,
    "start_time": "2022-10-16T10:12:34.027Z"
   },
   {
    "duration": 48,
    "start_time": "2022-10-16T10:12:34.361Z"
   },
   {
    "duration": 11,
    "start_time": "2022-10-16T10:12:34.412Z"
   },
   {
    "duration": 23,
    "start_time": "2022-10-16T10:12:34.425Z"
   },
   {
    "duration": 43,
    "start_time": "2022-10-16T10:12:34.450Z"
   },
   {
    "duration": 9,
    "start_time": "2022-10-16T10:12:34.495Z"
   },
   {
    "duration": 52,
    "start_time": "2022-10-16T10:12:34.506Z"
   },
   {
    "duration": 9,
    "start_time": "2022-10-16T10:12:34.560Z"
   },
   {
    "duration": 25,
    "start_time": "2022-10-16T10:12:34.571Z"
   },
   {
    "duration": 129,
    "start_time": "2022-10-16T10:12:34.598Z"
   },
   {
    "duration": 86,
    "start_time": "2022-10-16T10:12:34.729Z"
   },
   {
    "duration": 5,
    "start_time": "2022-10-16T10:12:34.817Z"
   },
   {
    "duration": 103,
    "start_time": "2022-10-16T10:12:34.825Z"
   },
   {
    "duration": 84,
    "start_time": "2022-10-16T10:12:34.929Z"
   },
   {
    "duration": 96,
    "start_time": "2022-10-16T10:12:35.016Z"
   },
   {
    "duration": 8,
    "start_time": "2022-10-16T10:12:35.114Z"
   },
   {
    "duration": 11,
    "start_time": "2022-10-16T10:12:35.124Z"
   },
   {
    "duration": 6,
    "start_time": "2022-10-16T10:12:35.136Z"
   },
   {
    "duration": 533,
    "start_time": "2022-10-16T10:12:35.143Z"
   },
   {
    "duration": 5,
    "start_time": "2022-10-16T10:12:35.677Z"
   },
   {
    "duration": 10,
    "start_time": "2022-10-16T10:12:35.684Z"
   },
   {
    "duration": 4,
    "start_time": "2022-10-16T10:13:01.700Z"
   },
   {
    "duration": 377,
    "start_time": "2022-10-16T10:13:01.707Z"
   },
   {
    "duration": 41,
    "start_time": "2022-10-16T10:13:02.085Z"
   },
   {
    "duration": 9,
    "start_time": "2022-10-16T10:13:02.127Z"
   },
   {
    "duration": 36,
    "start_time": "2022-10-16T10:13:02.138Z"
   },
   {
    "duration": 14,
    "start_time": "2022-10-16T10:13:02.176Z"
   },
   {
    "duration": 8,
    "start_time": "2022-10-16T10:13:02.192Z"
   },
   {
    "duration": 24,
    "start_time": "2022-10-16T10:13:02.201Z"
   },
   {
    "duration": 4,
    "start_time": "2022-10-16T10:13:02.226Z"
   },
   {
    "duration": 82,
    "start_time": "2022-10-16T10:13:02.232Z"
   },
   {
    "duration": 119,
    "start_time": "2022-10-16T10:13:02.316Z"
   },
   {
    "duration": 17,
    "start_time": "2022-10-16T10:13:02.437Z"
   },
   {
    "duration": 156,
    "start_time": "2022-10-16T10:13:02.456Z"
   },
   {
    "duration": 13,
    "start_time": "2022-10-16T10:13:02.614Z"
   },
   {
    "duration": 185,
    "start_time": "2022-10-16T10:13:02.628Z"
   },
   {
    "duration": 14,
    "start_time": "2022-10-16T10:13:02.814Z"
   },
   {
    "duration": 7,
    "start_time": "2022-10-16T10:13:02.830Z"
   },
   {
    "duration": 7,
    "start_time": "2022-10-16T10:13:02.839Z"
   },
   {
    "duration": 5,
    "start_time": "2022-10-16T10:13:02.848Z"
   },
   {
    "duration": 532,
    "start_time": "2022-10-16T10:13:02.855Z"
   },
   {
    "duration": 6,
    "start_time": "2022-10-16T10:13:03.389Z"
   },
   {
    "duration": 17,
    "start_time": "2022-10-16T10:13:03.396Z"
   },
   {
    "duration": 4,
    "start_time": "2022-10-16T10:34:15.698Z"
   },
   {
    "duration": 312,
    "start_time": "2022-10-16T10:34:15.706Z"
   },
   {
    "duration": 31,
    "start_time": "2022-10-16T10:34:16.020Z"
   },
   {
    "duration": 9,
    "start_time": "2022-10-16T10:34:16.053Z"
   },
   {
    "duration": 16,
    "start_time": "2022-10-16T10:34:16.064Z"
   },
   {
    "duration": 27,
    "start_time": "2022-10-16T10:34:16.082Z"
   },
   {
    "duration": 3,
    "start_time": "2022-10-16T10:34:16.110Z"
   },
   {
    "duration": 21,
    "start_time": "2022-10-16T10:34:16.115Z"
   },
   {
    "duration": 3,
    "start_time": "2022-10-16T10:34:16.138Z"
   },
   {
    "duration": 66,
    "start_time": "2022-10-16T10:34:16.142Z"
   },
   {
    "duration": 99,
    "start_time": "2022-10-16T10:34:16.211Z"
   },
   {
    "duration": 13,
    "start_time": "2022-10-16T10:34:16.311Z"
   },
   {
    "duration": 3,
    "start_time": "2022-10-16T10:34:16.326Z"
   },
   {
    "duration": 181,
    "start_time": "2022-10-16T10:34:16.331Z"
   },
   {
    "duration": 102,
    "start_time": "2022-10-16T10:34:16.513Z"
   },
   {
    "duration": 5,
    "start_time": "2022-10-16T10:34:16.617Z"
   },
   {
    "duration": 13,
    "start_time": "2022-10-16T10:34:16.623Z"
   },
   {
    "duration": 12,
    "start_time": "2022-10-16T10:34:16.638Z"
   },
   {
    "duration": 4,
    "start_time": "2022-10-16T10:34:16.652Z"
   },
   {
    "duration": 9,
    "start_time": "2022-10-16T10:40:22.376Z"
   },
   {
    "duration": 19,
    "start_time": "2022-10-16T10:40:45.925Z"
   },
   {
    "duration": 3,
    "start_time": "2022-10-16T10:43:10.979Z"
   },
   {
    "duration": 4,
    "start_time": "2022-10-16T10:43:22.965Z"
   },
   {
    "duration": 5,
    "start_time": "2022-10-16T10:44:11.447Z"
   },
   {
    "duration": 4,
    "start_time": "2022-10-16T10:44:25.545Z"
   },
   {
    "duration": 3,
    "start_time": "2022-10-16T10:49:59.549Z"
   },
   {
    "duration": 316,
    "start_time": "2022-10-16T10:49:59.553Z"
   },
   {
    "duration": 30,
    "start_time": "2022-10-16T10:49:59.871Z"
   },
   {
    "duration": 8,
    "start_time": "2022-10-16T10:49:59.909Z"
   },
   {
    "duration": 14,
    "start_time": "2022-10-16T10:49:59.918Z"
   },
   {
    "duration": 9,
    "start_time": "2022-10-16T10:49:59.933Z"
   },
   {
    "duration": 5,
    "start_time": "2022-10-16T10:49:59.944Z"
   },
   {
    "duration": 22,
    "start_time": "2022-10-16T10:49:59.950Z"
   },
   {
    "duration": 4,
    "start_time": "2022-10-16T10:49:59.974Z"
   },
   {
    "duration": 37,
    "start_time": "2022-10-16T10:49:59.979Z"
   },
   {
    "duration": 7,
    "start_time": "2022-10-16T10:50:00.018Z"
   },
   {
    "duration": 190,
    "start_time": "2022-10-16T10:50:00.026Z"
   },
   {
    "duration": 97,
    "start_time": "2022-10-16T10:50:00.218Z"
   },
   {
    "duration": 117,
    "start_time": "2022-10-16T10:50:00.317Z"
   },
   {
    "duration": 76,
    "start_time": "2022-10-16T10:50:00.436Z"
   },
   {
    "duration": 103,
    "start_time": "2022-10-16T10:50:00.514Z"
   },
   {
    "duration": 22,
    "start_time": "2022-10-16T10:50:00.618Z"
   },
   {
    "duration": 21,
    "start_time": "2022-10-16T10:50:00.641Z"
   },
   {
    "duration": 17,
    "start_time": "2022-10-16T10:50:00.663Z"
   },
   {
    "duration": 10,
    "start_time": "2022-10-16T10:50:00.681Z"
   },
   {
    "duration": 11,
    "start_time": "2022-10-16T10:50:00.693Z"
   },
   {
    "duration": 73,
    "start_time": "2022-10-16T10:50:00.705Z"
   },
   {
    "duration": 0,
    "start_time": "2022-10-16T10:50:00.780Z"
   },
   {
    "duration": 0,
    "start_time": "2022-10-16T10:50:00.781Z"
   },
   {
    "duration": 12,
    "start_time": "2022-10-16T10:57:23.189Z"
   },
   {
    "duration": 3,
    "start_time": "2022-10-16T10:57:34.357Z"
   },
   {
    "duration": 4,
    "start_time": "2022-10-16T10:57:48.837Z"
   },
   {
    "duration": 4,
    "start_time": "2022-10-16T10:58:16.249Z"
   },
   {
    "duration": 4,
    "start_time": "2022-10-16T10:58:32.897Z"
   },
   {
    "duration": 3,
    "start_time": "2022-10-16T10:59:03.604Z"
   },
   {
    "duration": 4,
    "start_time": "2022-10-16T10:59:04.332Z"
   },
   {
    "duration": 10,
    "start_time": "2022-10-16T10:59:09.458Z"
   },
   {
    "duration": 4,
    "start_time": "2022-10-16T10:59:25.868Z"
   },
   {
    "duration": 3,
    "start_time": "2022-10-16T10:59:34.667Z"
   },
   {
    "duration": 4,
    "start_time": "2022-10-16T10:59:35.008Z"
   },
   {
    "duration": 12,
    "start_time": "2022-10-16T10:59:37.189Z"
   },
   {
    "duration": 15,
    "start_time": "2022-10-16T10:59:51.594Z"
   },
   {
    "duration": 13,
    "start_time": "2022-10-16T11:00:04.127Z"
   },
   {
    "duration": 1013,
    "start_time": "2022-10-16T11:00:28.789Z"
   },
   {
    "duration": 5,
    "start_time": "2022-10-16T11:00:57.464Z"
   },
   {
    "duration": 4,
    "start_time": "2022-10-16T11:01:04.586Z"
   },
   {
    "duration": 5,
    "start_time": "2022-10-16T11:01:51.684Z"
   },
   {
    "duration": 21,
    "start_time": "2022-10-16T11:04:22.027Z"
   },
   {
    "duration": 4,
    "start_time": "2022-10-16T11:04:40.169Z"
   },
   {
    "duration": 4,
    "start_time": "2022-10-16T11:04:52.480Z"
   },
   {
    "duration": 4,
    "start_time": "2022-10-16T11:07:11.389Z"
   },
   {
    "duration": 317,
    "start_time": "2022-10-16T11:07:11.395Z"
   },
   {
    "duration": 37,
    "start_time": "2022-10-16T11:07:11.714Z"
   },
   {
    "duration": 9,
    "start_time": "2022-10-16T11:07:11.752Z"
   },
   {
    "duration": 14,
    "start_time": "2022-10-16T11:07:11.763Z"
   },
   {
    "duration": 30,
    "start_time": "2022-10-16T11:07:11.779Z"
   },
   {
    "duration": 3,
    "start_time": "2022-10-16T11:07:11.810Z"
   },
   {
    "duration": 23,
    "start_time": "2022-10-16T11:07:11.814Z"
   },
   {
    "duration": 3,
    "start_time": "2022-10-16T11:07:11.839Z"
   },
   {
    "duration": 31,
    "start_time": "2022-10-16T11:07:22.078Z"
   },
   {
    "duration": 7,
    "start_time": "2022-10-16T11:07:34.824Z"
   },
   {
    "duration": 3,
    "start_time": "2022-10-16T11:07:38.827Z"
   },
   {
    "duration": 5,
    "start_time": "2022-10-16T11:10:54.489Z"
   },
   {
    "duration": 319,
    "start_time": "2022-10-16T11:10:54.496Z"
   },
   {
    "duration": 30,
    "start_time": "2022-10-16T11:10:54.817Z"
   },
   {
    "duration": 8,
    "start_time": "2022-10-16T11:10:54.849Z"
   },
   {
    "duration": 15,
    "start_time": "2022-10-16T11:10:54.858Z"
   },
   {
    "duration": 16,
    "start_time": "2022-10-16T11:10:54.875Z"
   },
   {
    "duration": 6,
    "start_time": "2022-10-16T11:10:54.893Z"
   },
   {
    "duration": 25,
    "start_time": "2022-10-16T11:10:54.900Z"
   },
   {
    "duration": 3,
    "start_time": "2022-10-16T11:10:54.927Z"
   },
   {
    "duration": 78,
    "start_time": "2022-10-16T11:10:54.933Z"
   },
   {
    "duration": 4,
    "start_time": "2022-10-16T11:10:55.013Z"
   },
   {
    "duration": 101,
    "start_time": "2022-10-16T11:10:55.109Z"
   },
   {
    "duration": 6,
    "start_time": "2022-10-16T11:10:55.212Z"
   },
   {
    "duration": 22,
    "start_time": "2022-10-16T11:10:55.309Z"
   },
   {
    "duration": 100,
    "start_time": "2022-10-16T11:10:55.409Z"
   },
   {
    "duration": 4,
    "start_time": "2022-10-16T11:10:55.511Z"
   },
   {
    "duration": 6,
    "start_time": "2022-10-16T11:10:55.516Z"
   },
   {
    "duration": 7,
    "start_time": "2022-10-16T11:10:55.523Z"
   },
   {
    "duration": 3,
    "start_time": "2022-10-16T11:10:55.531Z"
   },
   {
    "duration": 4,
    "start_time": "2022-10-16T11:10:55.535Z"
   },
   {
    "duration": 4,
    "start_time": "2022-10-16T11:10:55.540Z"
   },
   {
    "duration": 8,
    "start_time": "2022-10-16T11:10:55.545Z"
   },
   {
    "duration": 6,
    "start_time": "2022-10-16T11:10:55.554Z"
   },
   {
    "duration": 6,
    "start_time": "2022-10-16T11:10:55.561Z"
   },
   {
    "duration": 7,
    "start_time": "2022-10-16T11:10:55.568Z"
   },
   {
    "duration": 505,
    "start_time": "2022-10-16T11:10:55.610Z"
   },
   {
    "duration": 5,
    "start_time": "2022-10-16T11:10:56.116Z"
   },
   {
    "duration": 5,
    "start_time": "2022-10-16T11:10:56.124Z"
   },
   {
    "duration": 516,
    "start_time": "2022-10-16T11:20:30.428Z"
   },
   {
    "duration": 140,
    "start_time": "2022-10-16T11:20:41.160Z"
   },
   {
    "duration": 47,
    "start_time": "2022-10-16T11:22:39.767Z"
   },
   {
    "duration": 4,
    "start_time": "2022-10-16T11:25:24.277Z"
   },
   {
    "duration": 14,
    "start_time": "2022-10-16T12:03:40.712Z"
   },
   {
    "duration": 6,
    "start_time": "2022-10-16T12:03:54.752Z"
   },
   {
    "duration": 5,
    "start_time": "2022-10-16T12:30:58.668Z"
   },
   {
    "duration": 3,
    "start_time": "2022-10-16T12:42:20.196Z"
   },
   {
    "duration": 322,
    "start_time": "2022-10-16T12:42:20.227Z"
   },
   {
    "duration": 31,
    "start_time": "2022-10-16T12:42:20.551Z"
   },
   {
    "duration": 8,
    "start_time": "2022-10-16T12:42:20.584Z"
   },
   {
    "duration": 26,
    "start_time": "2022-10-16T12:42:20.594Z"
   },
   {
    "duration": 11,
    "start_time": "2022-10-16T12:42:20.623Z"
   },
   {
    "duration": 12,
    "start_time": "2022-10-16T12:42:20.636Z"
   },
   {
    "duration": 29,
    "start_time": "2022-10-16T12:42:20.649Z"
   },
   {
    "duration": 4,
    "start_time": "2022-10-16T12:42:20.679Z"
   },
   {
    "duration": 127,
    "start_time": "2022-10-16T12:42:20.684Z"
   },
   {
    "duration": 4,
    "start_time": "2022-10-16T12:42:20.812Z"
   },
   {
    "duration": 116,
    "start_time": "2022-10-16T12:42:20.818Z"
   },
   {
    "duration": 101,
    "start_time": "2022-10-16T12:42:21.010Z"
   },
   {
    "duration": 98,
    "start_time": "2022-10-16T12:42:21.113Z"
   },
   {
    "duration": 95,
    "start_time": "2022-10-16T12:42:21.217Z"
   },
   {
    "duration": 17,
    "start_time": "2022-10-16T12:42:21.313Z"
   },
   {
    "duration": 19,
    "start_time": "2022-10-16T12:42:21.332Z"
   },
   {
    "duration": 18,
    "start_time": "2022-10-16T12:42:21.353Z"
   },
   {
    "duration": 25,
    "start_time": "2022-10-16T12:42:21.373Z"
   },
   {
    "duration": 516,
    "start_time": "2022-10-16T12:42:21.399Z"
   },
   {
    "duration": 141,
    "start_time": "2022-10-16T12:42:21.917Z"
   },
   {
    "duration": 4,
    "start_time": "2022-10-16T12:42:22.059Z"
   },
   {
    "duration": 9,
    "start_time": "2022-10-16T12:42:22.064Z"
   },
   {
    "duration": 24,
    "start_time": "2022-10-16T12:42:22.074Z"
   },
   {
    "duration": 514,
    "start_time": "2022-10-16T12:42:22.099Z"
   },
   {
    "duration": 3,
    "start_time": "2022-10-16T12:42:22.614Z"
   },
   {
    "duration": 8,
    "start_time": "2022-10-16T12:42:22.618Z"
   },
   {
    "duration": 19,
    "start_time": "2022-10-16T12:42:22.628Z"
   },
   {
    "duration": 497,
    "start_time": "2022-10-16T12:42:22.649Z"
   },
   {
    "duration": 4,
    "start_time": "2022-10-16T12:42:23.148Z"
   },
   {
    "duration": 9,
    "start_time": "2022-10-16T12:42:23.154Z"
   },
   {
    "duration": 17,
    "start_time": "2022-10-16T12:42:23.164Z"
   },
   {
    "duration": 4,
    "start_time": "2022-10-16T12:47:33.141Z"
   },
   {
    "duration": 325,
    "start_time": "2022-10-16T12:47:33.147Z"
   },
   {
    "duration": 37,
    "start_time": "2022-10-16T12:47:33.474Z"
   },
   {
    "duration": 8,
    "start_time": "2022-10-16T12:47:33.512Z"
   },
   {
    "duration": 11,
    "start_time": "2022-10-16T12:47:33.522Z"
   },
   {
    "duration": 8,
    "start_time": "2022-10-16T12:47:33.535Z"
   },
   {
    "duration": 14,
    "start_time": "2022-10-16T12:47:33.544Z"
   },
   {
    "duration": 23,
    "start_time": "2022-10-16T12:47:33.559Z"
   },
   {
    "duration": 4,
    "start_time": "2022-10-16T12:47:33.583Z"
   },
   {
    "duration": 125,
    "start_time": "2022-10-16T12:47:33.588Z"
   },
   {
    "duration": 95,
    "start_time": "2022-10-16T12:47:33.715Z"
   },
   {
    "duration": 19,
    "start_time": "2022-10-16T12:47:33.812Z"
   },
   {
    "duration": 4,
    "start_time": "2022-10-16T12:47:33.912Z"
   },
   {
    "duration": 192,
    "start_time": "2022-10-16T12:47:33.918Z"
   },
   {
    "duration": 5,
    "start_time": "2022-10-16T12:47:34.112Z"
   },
   {
    "duration": 5,
    "start_time": "2022-10-16T12:47:34.209Z"
   },
   {
    "duration": 5,
    "start_time": "2022-10-16T12:47:34.215Z"
   },
   {
    "duration": 5,
    "start_time": "2022-10-16T12:47:34.221Z"
   },
   {
    "duration": 3,
    "start_time": "2022-10-16T12:47:34.228Z"
   },
   {
    "duration": 607,
    "start_time": "2022-10-16T12:47:34.232Z"
   },
   {
    "duration": 139,
    "start_time": "2022-10-16T12:47:34.841Z"
   },
   {
    "duration": 4,
    "start_time": "2022-10-16T12:47:34.981Z"
   },
   {
    "duration": 15,
    "start_time": "2022-10-16T12:47:34.986Z"
   },
   {
    "duration": 8,
    "start_time": "2022-10-16T12:47:35.003Z"
   },
   {
    "duration": 525,
    "start_time": "2022-10-16T12:47:35.012Z"
   },
   {
    "duration": 3,
    "start_time": "2022-10-16T12:47:35.539Z"
   },
   {
    "duration": 16,
    "start_time": "2022-10-16T12:47:35.543Z"
   },
   {
    "duration": 32,
    "start_time": "2022-10-16T12:47:35.561Z"
   },
   {
    "duration": 505,
    "start_time": "2022-10-16T12:47:35.595Z"
   },
   {
    "duration": 3,
    "start_time": "2022-10-16T12:47:36.102Z"
   },
   {
    "duration": 13,
    "start_time": "2022-10-16T12:47:36.106Z"
   },
   {
    "duration": 22,
    "start_time": "2022-10-16T12:47:36.120Z"
   },
   {
    "duration": 3,
    "start_time": "2022-10-16T12:48:12.885Z"
   },
   {
    "duration": 311,
    "start_time": "2022-10-16T12:48:12.890Z"
   },
   {
    "duration": 33,
    "start_time": "2022-10-16T12:48:13.202Z"
   },
   {
    "duration": 8,
    "start_time": "2022-10-16T12:48:13.237Z"
   },
   {
    "duration": 12,
    "start_time": "2022-10-16T12:48:13.247Z"
   },
   {
    "duration": 9,
    "start_time": "2022-10-16T12:48:13.261Z"
   },
   {
    "duration": 4,
    "start_time": "2022-10-16T12:48:13.272Z"
   },
   {
    "duration": 38,
    "start_time": "2022-10-16T12:48:13.277Z"
   },
   {
    "duration": 3,
    "start_time": "2022-10-16T12:48:13.317Z"
   },
   {
    "duration": 98,
    "start_time": "2022-10-16T12:48:13.322Z"
   },
   {
    "duration": 5,
    "start_time": "2022-10-16T12:48:13.509Z"
   },
   {
    "duration": 22,
    "start_time": "2022-10-16T12:48:13.594Z"
   },
   {
    "duration": 4,
    "start_time": "2022-10-16T12:48:13.619Z"
   },
   {
    "duration": 23,
    "start_time": "2022-10-16T12:48:14.905Z"
   },
   {
    "duration": 5,
    "start_time": "2022-10-16T12:48:15.011Z"
   },
   {
    "duration": 106,
    "start_time": "2022-10-16T12:48:15.018Z"
   },
   {
    "duration": 6,
    "start_time": "2022-10-16T12:48:15.126Z"
   },
   {
    "duration": 8,
    "start_time": "2022-10-16T12:48:15.135Z"
   },
   {
    "duration": 8,
    "start_time": "2022-10-16T12:48:15.144Z"
   },
   {
    "duration": 559,
    "start_time": "2022-10-16T12:48:15.153Z"
   },
   {
    "duration": 158,
    "start_time": "2022-10-16T12:48:15.714Z"
   },
   {
    "duration": 4,
    "start_time": "2022-10-16T12:48:15.873Z"
   },
   {
    "duration": 8,
    "start_time": "2022-10-16T12:48:15.878Z"
   },
   {
    "duration": 21,
    "start_time": "2022-10-16T12:48:15.888Z"
   },
   {
    "duration": 543,
    "start_time": "2022-10-16T12:48:15.912Z"
   },
   {
    "duration": 3,
    "start_time": "2022-10-16T12:48:16.457Z"
   },
   {
    "duration": 8,
    "start_time": "2022-10-16T12:48:16.461Z"
   },
   {
    "duration": 14,
    "start_time": "2022-10-16T12:48:16.471Z"
   },
   {
    "duration": 564,
    "start_time": "2022-10-16T12:48:16.486Z"
   },
   {
    "duration": 4,
    "start_time": "2022-10-16T12:48:17.051Z"
   },
   {
    "duration": 7,
    "start_time": "2022-10-16T12:48:17.057Z"
   },
   {
    "duration": 7,
    "start_time": "2022-10-16T12:48:17.066Z"
   },
   {
    "duration": 21,
    "start_time": "2022-10-16T13:04:01.988Z"
   },
   {
    "duration": 4,
    "start_time": "2022-10-16T13:04:33.256Z"
   },
   {
    "duration": 4,
    "start_time": "2022-10-16T13:04:54.917Z"
   },
   {
    "duration": 3,
    "start_time": "2022-10-16T13:05:10.037Z"
   },
   {
    "duration": 11,
    "start_time": "2022-10-16T13:06:16.174Z"
   },
   {
    "duration": 4,
    "start_time": "2022-10-16T13:06:41.201Z"
   },
   {
    "duration": 4,
    "start_time": "2022-10-16T13:07:03.481Z"
   },
   {
    "duration": 3,
    "start_time": "2022-10-16T13:08:31.664Z"
   },
   {
    "duration": 4,
    "start_time": "2022-10-16T13:10:10.352Z"
   },
   {
    "duration": 3,
    "start_time": "2022-10-16T13:17:30.880Z"
   },
   {
    "duration": 315,
    "start_time": "2022-10-16T13:17:30.900Z"
   },
   {
    "duration": 31,
    "start_time": "2022-10-16T13:17:31.216Z"
   },
   {
    "duration": 7,
    "start_time": "2022-10-16T13:17:31.249Z"
   },
   {
    "duration": 26,
    "start_time": "2022-10-16T13:17:31.258Z"
   },
   {
    "duration": 24,
    "start_time": "2022-10-16T13:17:31.286Z"
   },
   {
    "duration": 15,
    "start_time": "2022-10-16T13:17:31.312Z"
   },
   {
    "duration": 28,
    "start_time": "2022-10-16T13:17:31.329Z"
   },
   {
    "duration": 18,
    "start_time": "2022-10-16T13:17:31.359Z"
   },
   {
    "duration": 41,
    "start_time": "2022-10-16T13:17:31.379Z"
   },
   {
    "duration": 190,
    "start_time": "2022-10-16T13:17:31.421Z"
   },
   {
    "duration": 97,
    "start_time": "2022-10-16T13:17:31.613Z"
   },
   {
    "duration": 100,
    "start_time": "2022-10-16T13:17:31.712Z"
   },
   {
    "duration": 97,
    "start_time": "2022-10-16T13:17:31.813Z"
   },
   {
    "duration": 99,
    "start_time": "2022-10-16T13:17:31.912Z"
   },
   {
    "duration": 6,
    "start_time": "2022-10-16T13:17:32.013Z"
   },
   {
    "duration": 9,
    "start_time": "2022-10-16T13:17:32.021Z"
   },
   {
    "duration": 20,
    "start_time": "2022-10-16T13:17:32.032Z"
   },
   {
    "duration": 16,
    "start_time": "2022-10-16T13:17:32.054Z"
   },
   {
    "duration": 556,
    "start_time": "2022-10-16T13:17:32.072Z"
   },
   {
    "duration": 136,
    "start_time": "2022-10-16T13:17:32.630Z"
   },
   {
    "duration": 3,
    "start_time": "2022-10-16T13:17:32.768Z"
   },
   {
    "duration": 8,
    "start_time": "2022-10-16T13:17:32.773Z"
   },
   {
    "duration": 6,
    "start_time": "2022-10-16T13:17:32.783Z"
   },
   {
    "duration": 510,
    "start_time": "2022-10-16T13:17:32.808Z"
   },
   {
    "duration": 4,
    "start_time": "2022-10-16T13:17:33.319Z"
   },
   {
    "duration": 9,
    "start_time": "2022-10-16T13:17:33.324Z"
   },
   {
    "duration": 13,
    "start_time": "2022-10-16T13:17:33.334Z"
   },
   {
    "duration": 507,
    "start_time": "2022-10-16T13:17:33.348Z"
   },
   {
    "duration": 3,
    "start_time": "2022-10-16T13:17:33.857Z"
   },
   {
    "duration": 8,
    "start_time": "2022-10-16T13:17:33.861Z"
   },
   {
    "duration": 7,
    "start_time": "2022-10-16T13:17:33.870Z"
   },
   {
    "duration": 5,
    "start_time": "2022-10-16T13:17:33.878Z"
   },
   {
    "duration": 7,
    "start_time": "2022-10-16T13:17:33.885Z"
   },
   {
    "duration": 110,
    "start_time": "2022-10-16T13:35:16.255Z"
   },
   {
    "duration": 72,
    "start_time": "2022-10-16T13:39:34.897Z"
   },
   {
    "duration": 77,
    "start_time": "2022-10-16T13:40:50.959Z"
   },
   {
    "duration": 1129,
    "start_time": "2022-10-17T19:52:26.251Z"
   },
   {
    "duration": 2098,
    "start_time": "2022-10-17T19:52:27.382Z"
   },
   {
    "duration": 40,
    "start_time": "2022-10-17T19:52:29.482Z"
   },
   {
    "duration": 18,
    "start_time": "2022-10-17T19:52:32.897Z"
   },
   {
    "duration": 97,
    "start_time": "2022-10-17T19:52:49.561Z"
   },
   {
    "duration": 38,
    "start_time": "2022-10-17T19:53:15.548Z"
   },
   {
    "duration": 39,
    "start_time": "2022-10-17T19:53:24.439Z"
   },
   {
    "duration": 39,
    "start_time": "2022-10-17T19:53:31.590Z"
   },
   {
    "duration": 51,
    "start_time": "2022-10-17T19:59:31.119Z"
   },
   {
    "duration": 47,
    "start_time": "2022-10-17T19:59:42.640Z"
   },
   {
    "duration": 51,
    "start_time": "2022-10-17T19:59:47.660Z"
   },
   {
    "duration": 56,
    "start_time": "2022-10-17T20:00:21.031Z"
   },
   {
    "duration": 51,
    "start_time": "2022-10-17T20:00:21.230Z"
   },
   {
    "duration": 51,
    "start_time": "2022-10-17T20:00:21.423Z"
   },
   {
    "duration": 17,
    "start_time": "2022-10-17T20:14:24.250Z"
   },
   {
    "duration": 15,
    "start_time": "2022-10-17T20:14:54.133Z"
   },
   {
    "duration": 15,
    "start_time": "2022-10-17T20:15:04.904Z"
   },
   {
    "duration": 3,
    "start_time": "2022-10-17T20:32:03.497Z"
   },
   {
    "duration": 4,
    "start_time": "2022-10-17T20:34:26.369Z"
   },
   {
    "duration": 434,
    "start_time": "2022-10-17T20:34:26.375Z"
   },
   {
    "duration": 38,
    "start_time": "2022-10-17T20:34:26.812Z"
   },
   {
    "duration": 53,
    "start_time": "2022-10-17T20:34:26.851Z"
   },
   {
    "duration": 36,
    "start_time": "2022-10-17T20:34:26.906Z"
   },
   {
    "duration": 52,
    "start_time": "2022-10-17T20:34:26.944Z"
   },
   {
    "duration": 47,
    "start_time": "2022-10-17T20:34:26.999Z"
   },
   {
    "duration": 68,
    "start_time": "2022-10-17T20:34:27.048Z"
   },
   {
    "duration": 42,
    "start_time": "2022-10-17T20:34:27.118Z"
   },
   {
    "duration": 34,
    "start_time": "2022-10-17T20:34:27.161Z"
   },
   {
    "duration": 16,
    "start_time": "2022-10-17T20:34:27.198Z"
   },
   {
    "duration": 14,
    "start_time": "2022-10-17T20:34:27.216Z"
   },
   {
    "duration": 9,
    "start_time": "2022-10-17T20:34:27.231Z"
   },
   {
    "duration": 15,
    "start_time": "2022-10-17T20:34:27.241Z"
   },
   {
    "duration": 38,
    "start_time": "2022-10-17T20:34:27.257Z"
   },
   {
    "duration": 10,
    "start_time": "2022-10-17T20:34:27.297Z"
   },
   {
    "duration": 31,
    "start_time": "2022-10-17T20:34:27.308Z"
   },
   {
    "duration": 3,
    "start_time": "2022-10-17T20:34:27.341Z"
   },
   {
    "duration": 30,
    "start_time": "2022-10-17T20:34:27.346Z"
   },
   {
    "duration": 248,
    "start_time": "2022-10-17T20:35:01.318Z"
   },
   {
    "duration": 5,
    "start_time": "2022-10-17T20:35:55.897Z"
   },
   {
    "duration": 5,
    "start_time": "2022-10-17T20:36:03.949Z"
   },
   {
    "duration": 8,
    "start_time": "2022-10-17T20:36:58.141Z"
   },
   {
    "duration": 9,
    "start_time": "2022-10-17T20:37:08.027Z"
   },
   {
    "duration": 5,
    "start_time": "2022-10-17T20:37:13.511Z"
   },
   {
    "duration": 4,
    "start_time": "2022-10-17T20:38:55.560Z"
   },
   {
    "duration": 383,
    "start_time": "2022-10-17T20:38:55.567Z"
   },
   {
    "duration": 34,
    "start_time": "2022-10-17T20:38:55.951Z"
   },
   {
    "duration": 36,
    "start_time": "2022-10-17T20:38:55.995Z"
   },
   {
    "duration": 36,
    "start_time": "2022-10-17T20:38:56.034Z"
   },
   {
    "duration": 35,
    "start_time": "2022-10-17T20:38:56.095Z"
   },
   {
    "duration": 46,
    "start_time": "2022-10-17T20:38:56.132Z"
   },
   {
    "duration": 41,
    "start_time": "2022-10-17T20:38:56.196Z"
   },
   {
    "duration": 58,
    "start_time": "2022-10-17T20:38:56.239Z"
   },
   {
    "duration": 13,
    "start_time": "2022-10-17T20:38:56.298Z"
   },
   {
    "duration": 13,
    "start_time": "2022-10-17T20:38:56.313Z"
   },
   {
    "duration": 13,
    "start_time": "2022-10-17T20:38:56.328Z"
   },
   {
    "duration": 9,
    "start_time": "2022-10-17T20:38:56.342Z"
   },
   {
    "duration": 48,
    "start_time": "2022-10-17T20:38:56.353Z"
   },
   {
    "duration": 11,
    "start_time": "2022-10-17T20:38:56.403Z"
   },
   {
    "duration": 5,
    "start_time": "2022-10-17T20:38:56.416Z"
   },
   {
    "duration": 32,
    "start_time": "2022-10-17T20:38:56.423Z"
   },
   {
    "duration": 4,
    "start_time": "2022-10-17T20:38:56.457Z"
   },
   {
    "duration": 55,
    "start_time": "2022-10-17T20:38:56.463Z"
   },
   {
    "duration": 38,
    "start_time": "2022-10-17T20:39:03.058Z"
   },
   {
    "duration": 34,
    "start_time": "2022-10-17T20:39:35.528Z"
   },
   {
    "duration": 27,
    "start_time": "2022-10-17T20:39:51.668Z"
   },
   {
    "duration": 156,
    "start_time": "2022-10-17T20:40:00.841Z"
   },
   {
    "duration": 5,
    "start_time": "2022-10-17T20:40:03.728Z"
   },
   {
    "duration": 104,
    "start_time": "2022-10-17T20:40:07.294Z"
   },
   {
    "duration": 4,
    "start_time": "2022-10-17T20:40:09.731Z"
   },
   {
    "duration": 20,
    "start_time": "2022-10-17T20:40:11.668Z"
   },
   {
    "duration": 4,
    "start_time": "2022-10-17T20:40:13.398Z"
   },
   {
    "duration": 3,
    "start_time": "2022-10-17T20:53:21.297Z"
   },
   {
    "duration": 347,
    "start_time": "2022-10-17T20:53:21.302Z"
   },
   {
    "duration": 33,
    "start_time": "2022-10-17T20:53:21.651Z"
   },
   {
    "duration": 43,
    "start_time": "2022-10-17T20:53:21.686Z"
   },
   {
    "duration": 33,
    "start_time": "2022-10-17T20:53:21.730Z"
   },
   {
    "duration": 53,
    "start_time": "2022-10-17T20:53:21.764Z"
   },
   {
    "duration": 41,
    "start_time": "2022-10-17T20:53:21.819Z"
   },
   {
    "duration": 54,
    "start_time": "2022-10-17T20:53:21.861Z"
   },
   {
    "duration": 42,
    "start_time": "2022-10-17T20:53:21.916Z"
   },
   {
    "duration": 34,
    "start_time": "2022-10-17T20:53:21.962Z"
   },
   {
    "duration": 14,
    "start_time": "2022-10-17T20:53:21.998Z"
   },
   {
    "duration": 12,
    "start_time": "2022-10-17T20:53:22.014Z"
   },
   {
    "duration": 8,
    "start_time": "2022-10-17T20:53:22.028Z"
   },
   {
    "duration": 13,
    "start_time": "2022-10-17T20:53:22.038Z"
   },
   {
    "duration": 10,
    "start_time": "2022-10-17T20:53:22.053Z"
   },
   {
    "duration": 34,
    "start_time": "2022-10-17T20:53:22.064Z"
   },
   {
    "duration": 24,
    "start_time": "2022-10-17T20:53:22.100Z"
   },
   {
    "duration": 3,
    "start_time": "2022-10-17T20:53:22.126Z"
   },
   {
    "duration": 40,
    "start_time": "2022-10-17T20:53:22.130Z"
   },
   {
    "duration": 44,
    "start_time": "2022-10-17T20:53:22.172Z"
   },
   {
    "duration": 6,
    "start_time": "2022-10-17T20:53:22.296Z"
   },
   {
    "duration": 27,
    "start_time": "2022-10-17T20:53:22.394Z"
   },
   {
    "duration": 5,
    "start_time": "2022-10-17T20:53:22.495Z"
   },
   {
    "duration": 195,
    "start_time": "2022-10-17T20:53:22.501Z"
   },
   {
    "duration": 96,
    "start_time": "2022-10-17T20:53:22.699Z"
   },
   {
    "duration": 7,
    "start_time": "2022-10-17T20:53:22.797Z"
   },
   {
    "duration": 9,
    "start_time": "2022-10-17T20:53:22.806Z"
   },
   {
    "duration": 3,
    "start_time": "2022-10-17T20:53:27.268Z"
   },
   {
    "duration": 6,
    "start_time": "2022-10-17T20:53:28.971Z"
   },
   {
    "duration": 3,
    "start_time": "2022-10-17T20:54:14.439Z"
   },
   {
    "duration": 647,
    "start_time": "2022-10-17T20:54:45.268Z"
   },
   {
    "duration": 573,
    "start_time": "2022-10-17T20:54:47.609Z"
   },
   {
    "duration": 5,
    "start_time": "2022-10-17T20:55:04.280Z"
   },
   {
    "duration": 7,
    "start_time": "2022-10-17T20:55:12.316Z"
   },
   {
    "duration": 6,
    "start_time": "2022-10-17T20:55:18.862Z"
   },
   {
    "duration": 640,
    "start_time": "2022-10-17T20:55:41.376Z"
   },
   {
    "duration": 4,
    "start_time": "2022-10-17T20:55:47.887Z"
   },
   {
    "duration": 6,
    "start_time": "2022-10-17T20:55:58.648Z"
   },
   {
    "duration": 5,
    "start_time": "2022-10-17T20:56:00.031Z"
   },
   {
    "duration": 650,
    "start_time": "2022-10-17T20:56:14.038Z"
   },
   {
    "duration": 4,
    "start_time": "2022-10-17T20:56:15.989Z"
   },
   {
    "duration": 22,
    "start_time": "2022-10-17T20:56:17.040Z"
   },
   {
    "duration": 6,
    "start_time": "2022-10-17T20:56:35.350Z"
   },
   {
    "duration": 5,
    "start_time": "2022-10-17T20:56:41.759Z"
   },
   {
    "duration": 4,
    "start_time": "2022-10-17T20:57:03.239Z"
   },
   {
    "duration": 4,
    "start_time": "2022-10-17T20:57:04.248Z"
   },
   {
    "duration": 4,
    "start_time": "2022-10-17T21:01:06.898Z"
   },
   {
    "duration": 13,
    "start_time": "2022-10-17T21:01:52.517Z"
   },
   {
    "duration": 4,
    "start_time": "2022-10-17T21:02:11.349Z"
   },
   {
    "duration": 857,
    "start_time": "2022-10-17T21:02:12.140Z"
   },
   {
    "duration": 4,
    "start_time": "2022-10-17T21:02:44.587Z"
   },
   {
    "duration": 383,
    "start_time": "2022-10-17T21:02:44.592Z"
   },
   {
    "duration": 44,
    "start_time": "2022-10-17T21:02:44.977Z"
   },
   {
    "duration": 41,
    "start_time": "2022-10-17T21:02:45.023Z"
   },
   {
    "duration": 54,
    "start_time": "2022-10-17T21:02:45.067Z"
   },
   {
    "duration": 40,
    "start_time": "2022-10-17T21:02:45.122Z"
   },
   {
    "duration": 66,
    "start_time": "2022-10-17T21:02:45.164Z"
   },
   {
    "duration": 47,
    "start_time": "2022-10-17T21:02:45.232Z"
   },
   {
    "duration": 59,
    "start_time": "2022-10-17T21:02:45.281Z"
   },
   {
    "duration": 15,
    "start_time": "2022-10-17T21:02:45.341Z"
   },
   {
    "duration": 38,
    "start_time": "2022-10-17T21:02:45.358Z"
   },
   {
    "duration": 15,
    "start_time": "2022-10-17T21:02:45.398Z"
   },
   {
    "duration": 10,
    "start_time": "2022-10-17T21:02:45.414Z"
   },
   {
    "duration": 16,
    "start_time": "2022-10-17T21:02:45.427Z"
   },
   {
    "duration": 13,
    "start_time": "2022-10-17T21:02:45.444Z"
   },
   {
    "duration": 17,
    "start_time": "2022-10-17T21:02:45.459Z"
   },
   {
    "duration": 44,
    "start_time": "2022-10-17T21:02:45.478Z"
   },
   {
    "duration": 3,
    "start_time": "2022-10-17T21:02:45.524Z"
   },
   {
    "duration": 50,
    "start_time": "2022-10-17T21:02:45.529Z"
   },
   {
    "duration": 217,
    "start_time": "2022-10-17T21:02:45.580Z"
   },
   {
    "duration": 4,
    "start_time": "2022-10-17T21:02:45.800Z"
   },
   {
    "duration": 91,
    "start_time": "2022-10-17T21:02:45.806Z"
   },
   {
    "duration": 96,
    "start_time": "2022-10-17T21:02:45.899Z"
   },
   {
    "duration": 99,
    "start_time": "2022-10-17T21:02:45.997Z"
   },
   {
    "duration": 5,
    "start_time": "2022-10-17T21:02:46.098Z"
   },
   {
    "duration": 98,
    "start_time": "2022-10-17T21:02:46.104Z"
   },
   {
    "duration": 6,
    "start_time": "2022-10-17T21:02:46.204Z"
   },
   {
    "duration": 7,
    "start_time": "2022-10-17T21:02:46.212Z"
   },
   {
    "duration": 3,
    "start_time": "2022-10-17T21:02:46.222Z"
   },
   {
    "duration": 743,
    "start_time": "2022-10-17T21:02:46.227Z"
   },
   {
    "duration": 3,
    "start_time": "2022-10-17T21:02:46.972Z"
   },
   {
    "duration": 857,
    "start_time": "2022-10-17T21:02:46.977Z"
   },
   {
    "duration": 183,
    "start_time": "2022-10-17T21:02:47.835Z"
   },
   {
    "duration": 5,
    "start_time": "2022-10-17T21:02:48.020Z"
   },
   {
    "duration": 14,
    "start_time": "2022-10-17T21:02:48.027Z"
   },
   {
    "duration": 9,
    "start_time": "2022-10-17T21:02:48.043Z"
   },
   {
    "duration": 726,
    "start_time": "2022-10-17T21:02:48.055Z"
   },
   {
    "duration": 3,
    "start_time": "2022-10-17T21:02:48.783Z"
   },
   {
    "duration": 5,
    "start_time": "2022-10-17T21:02:48.796Z"
   },
   {
    "duration": 8,
    "start_time": "2022-10-17T21:02:48.803Z"
   },
   {
    "duration": 727,
    "start_time": "2022-10-17T21:02:48.816Z"
   },
   {
    "duration": 5,
    "start_time": "2022-10-17T21:02:49.545Z"
   },
   {
    "duration": 10,
    "start_time": "2022-10-17T21:02:49.551Z"
   },
   {
    "duration": 10,
    "start_time": "2022-10-17T21:02:49.563Z"
   },
   {
    "duration": 21,
    "start_time": "2022-10-17T21:02:49.575Z"
   },
   {
    "duration": 4,
    "start_time": "2022-10-17T21:02:49.598Z"
   },
   {
    "duration": 4,
    "start_time": "2022-10-17T21:13:16.828Z"
   },
   {
    "duration": 6,
    "start_time": "2022-10-17T21:13:35.704Z"
   },
   {
    "duration": 5,
    "start_time": "2022-10-17T21:14:15.586Z"
   },
   {
    "duration": 3,
    "start_time": "2022-10-17T21:19:16.009Z"
   },
   {
    "duration": 10,
    "start_time": "2022-10-17T21:19:43.948Z"
   },
   {
    "duration": 10,
    "start_time": "2022-10-17T21:20:52.839Z"
   },
   {
    "duration": 3,
    "start_time": "2022-10-17T21:24:39.102Z"
   },
   {
    "duration": 5,
    "start_time": "2022-10-17T21:24:39.489Z"
   },
   {
    "duration": 4,
    "start_time": "2022-10-17T21:25:07.349Z"
   },
   {
    "duration": 4,
    "start_time": "2022-10-17T21:35:11.369Z"
   },
   {
    "duration": 352,
    "start_time": "2022-10-17T21:35:11.375Z"
   },
   {
    "duration": 33,
    "start_time": "2022-10-17T21:35:11.729Z"
   },
   {
    "duration": 50,
    "start_time": "2022-10-17T21:35:11.763Z"
   },
   {
    "duration": 33,
    "start_time": "2022-10-17T21:35:11.815Z"
   },
   {
    "duration": 49,
    "start_time": "2022-10-17T21:35:11.849Z"
   },
   {
    "duration": 41,
    "start_time": "2022-10-17T21:35:11.899Z"
   },
   {
    "duration": 37,
    "start_time": "2022-10-17T21:35:11.941Z"
   },
   {
    "duration": 38,
    "start_time": "2022-10-17T21:35:11.996Z"
   },
   {
    "duration": 11,
    "start_time": "2022-10-17T21:35:12.036Z"
   },
   {
    "duration": 11,
    "start_time": "2022-10-17T21:35:12.049Z"
   },
   {
    "duration": 35,
    "start_time": "2022-10-17T21:35:12.061Z"
   },
   {
    "duration": 8,
    "start_time": "2022-10-17T21:35:12.097Z"
   },
   {
    "duration": 12,
    "start_time": "2022-10-17T21:35:12.108Z"
   },
   {
    "duration": 7,
    "start_time": "2022-10-17T21:35:12.122Z"
   },
   {
    "duration": 7,
    "start_time": "2022-10-17T21:35:12.131Z"
   },
   {
    "duration": 23,
    "start_time": "2022-10-17T21:35:12.139Z"
   },
   {
    "duration": 3,
    "start_time": "2022-10-17T21:35:12.164Z"
   },
   {
    "duration": 55,
    "start_time": "2022-10-17T21:35:12.168Z"
   },
   {
    "duration": 71,
    "start_time": "2022-10-17T21:35:12.225Z"
   },
   {
    "duration": 5,
    "start_time": "2022-10-17T21:35:12.298Z"
   },
   {
    "duration": 112,
    "start_time": "2022-10-17T21:35:12.304Z"
   },
   {
    "duration": 178,
    "start_time": "2022-10-17T21:35:12.417Z"
   },
   {
    "duration": 98,
    "start_time": "2022-10-17T21:35:12.597Z"
   },
   {
    "duration": 5,
    "start_time": "2022-10-17T21:35:12.697Z"
   },
   {
    "duration": 97,
    "start_time": "2022-10-17T21:35:12.705Z"
   },
   {
    "duration": 6,
    "start_time": "2022-10-17T21:35:12.803Z"
   },
   {
    "duration": 8,
    "start_time": "2022-10-17T21:35:12.811Z"
   },
   {
    "duration": 11,
    "start_time": "2022-10-17T21:35:12.821Z"
   },
   {
    "duration": 11,
    "start_time": "2022-10-17T21:35:12.834Z"
   },
   {
    "duration": 600,
    "start_time": "2022-10-17T21:35:12.847Z"
   },
   {
    "duration": 149,
    "start_time": "2022-10-17T21:35:13.448Z"
   },
   {
    "duration": 3,
    "start_time": "2022-10-17T21:35:13.599Z"
   },
   {
    "duration": 9,
    "start_time": "2022-10-17T21:35:13.604Z"
   },
   {
    "duration": 11,
    "start_time": "2022-10-17T21:35:13.614Z"
   },
   {
    "duration": 4,
    "start_time": "2022-10-17T21:35:13.626Z"
   },
   {
    "duration": 8,
    "start_time": "2022-10-17T21:35:13.631Z"
   },
   {
    "duration": 599,
    "start_time": "2022-10-17T21:35:13.640Z"
   },
   {
    "duration": 3,
    "start_time": "2022-10-17T21:35:14.241Z"
   },
   {
    "duration": 6,
    "start_time": "2022-10-17T21:35:14.246Z"
   },
   {
    "duration": 4,
    "start_time": "2022-10-17T21:35:14.254Z"
   },
   {
    "duration": 599,
    "start_time": "2022-10-17T21:40:10.828Z"
   },
   {
    "duration": 5,
    "start_time": "2022-10-17T21:40:12.891Z"
   },
   {
    "duration": 4,
    "start_time": "2022-10-17T21:40:16.739Z"
   },
   {
    "duration": 4,
    "start_time": "2022-10-17T21:40:19.142Z"
   },
   {
    "duration": 3,
    "start_time": "2022-10-17T21:41:50.498Z"
   },
   {
    "duration": 345,
    "start_time": "2022-10-17T21:41:50.507Z"
   },
   {
    "duration": 29,
    "start_time": "2022-10-17T21:41:50.854Z"
   },
   {
    "duration": 38,
    "start_time": "2022-10-17T21:41:50.884Z"
   },
   {
    "duration": 30,
    "start_time": "2022-10-17T21:41:50.924Z"
   },
   {
    "duration": 124,
    "start_time": "2022-10-17T21:41:50.956Z"
   },
   {
    "duration": 44,
    "start_time": "2022-10-17T21:41:51.081Z"
   },
   {
    "duration": 34,
    "start_time": "2022-10-17T21:41:51.127Z"
   },
   {
    "duration": 49,
    "start_time": "2022-10-17T21:41:51.162Z"
   },
   {
    "duration": 12,
    "start_time": "2022-10-17T21:41:51.212Z"
   },
   {
    "duration": 13,
    "start_time": "2022-10-17T21:41:51.225Z"
   },
   {
    "duration": 11,
    "start_time": "2022-10-17T21:41:51.239Z"
   },
   {
    "duration": 10,
    "start_time": "2022-10-17T21:41:51.251Z"
   },
   {
    "duration": 37,
    "start_time": "2022-10-17T21:41:51.262Z"
   },
   {
    "duration": 8,
    "start_time": "2022-10-17T21:41:51.302Z"
   },
   {
    "duration": 6,
    "start_time": "2022-10-17T21:41:51.311Z"
   },
   {
    "duration": 22,
    "start_time": "2022-10-17T21:41:51.318Z"
   },
   {
    "duration": 3,
    "start_time": "2022-10-17T21:41:51.341Z"
   },
   {
    "duration": 52,
    "start_time": "2022-10-17T21:41:51.346Z"
   },
   {
    "duration": 20,
    "start_time": "2022-10-17T21:41:51.400Z"
   },
   {
    "duration": 7,
    "start_time": "2022-10-17T21:41:51.496Z"
   },
   {
    "duration": 100,
    "start_time": "2022-10-17T21:41:51.595Z"
   },
   {
    "duration": 101,
    "start_time": "2022-10-17T21:41:51.697Z"
   },
   {
    "duration": 97,
    "start_time": "2022-10-17T21:41:51.799Z"
   },
   {
    "duration": 97,
    "start_time": "2022-10-17T21:41:51.899Z"
   },
   {
    "duration": 3,
    "start_time": "2022-10-17T21:41:51.998Z"
   },
   {
    "duration": 10,
    "start_time": "2022-10-17T21:41:52.002Z"
   },
   {
    "duration": 11,
    "start_time": "2022-10-17T21:41:52.014Z"
   },
   {
    "duration": 11,
    "start_time": "2022-10-17T21:41:52.026Z"
   },
   {
    "duration": 17,
    "start_time": "2022-10-17T21:41:52.039Z"
   },
   {
    "duration": 604,
    "start_time": "2022-10-17T21:41:52.058Z"
   },
   {
    "duration": 149,
    "start_time": "2022-10-17T21:41:52.663Z"
   },
   {
    "duration": 5,
    "start_time": "2022-10-17T21:41:52.813Z"
   },
   {
    "duration": 20,
    "start_time": "2022-10-17T21:41:52.820Z"
   },
   {
    "duration": 7,
    "start_time": "2022-10-17T21:41:52.842Z"
   },
   {
    "duration": 7,
    "start_time": "2022-10-17T21:41:52.851Z"
   },
   {
    "duration": 24,
    "start_time": "2022-10-17T21:41:52.859Z"
   },
   {
    "duration": 603,
    "start_time": "2022-10-17T21:41:52.885Z"
   },
   {
    "duration": 7,
    "start_time": "2022-10-17T21:41:53.489Z"
   },
   {
    "duration": 17,
    "start_time": "2022-10-17T21:41:53.497Z"
   },
   {
    "duration": 11,
    "start_time": "2022-10-17T21:41:53.516Z"
   },
   {
    "duration": 610,
    "start_time": "2022-10-17T21:41:53.530Z"
   },
   {
    "duration": 4,
    "start_time": "2022-10-17T21:41:54.142Z"
   },
   {
    "duration": 13,
    "start_time": "2022-10-17T21:41:54.148Z"
   },
   {
    "duration": 8,
    "start_time": "2022-10-17T21:41:54.163Z"
   },
   {
    "duration": 4,
    "start_time": "2022-10-17T21:42:01.511Z"
   },
   {
    "duration": 4,
    "start_time": "2022-10-17T21:42:14.978Z"
   },
   {
    "duration": 4,
    "start_time": "2022-10-17T21:42:23.962Z"
   },
   {
    "duration": 4,
    "start_time": "2022-10-17T21:42:30.191Z"
   },
   {
    "duration": 4,
    "start_time": "2022-10-17T21:42:52.837Z"
   },
   {
    "duration": 345,
    "start_time": "2022-10-17T21:42:52.843Z"
   },
   {
    "duration": 32,
    "start_time": "2022-10-17T21:42:53.190Z"
   },
   {
    "duration": 34,
    "start_time": "2022-10-17T21:42:53.224Z"
   },
   {
    "duration": 51,
    "start_time": "2022-10-17T21:42:53.259Z"
   },
   {
    "duration": 32,
    "start_time": "2022-10-17T21:42:53.312Z"
   },
   {
    "duration": 57,
    "start_time": "2022-10-17T21:42:53.345Z"
   },
   {
    "duration": 39,
    "start_time": "2022-10-17T21:42:53.403Z"
   },
   {
    "duration": 52,
    "start_time": "2022-10-17T21:42:53.444Z"
   },
   {
    "duration": 12,
    "start_time": "2022-10-17T21:42:53.498Z"
   },
   {
    "duration": 11,
    "start_time": "2022-10-17T21:42:53.512Z"
   },
   {
    "duration": 11,
    "start_time": "2022-10-17T21:42:53.525Z"
   },
   {
    "duration": 8,
    "start_time": "2022-10-17T21:42:53.537Z"
   },
   {
    "duration": 16,
    "start_time": "2022-10-17T21:42:53.546Z"
   },
   {
    "duration": 32,
    "start_time": "2022-10-17T21:42:53.564Z"
   },
   {
    "duration": 6,
    "start_time": "2022-10-17T21:42:53.597Z"
   },
   {
    "duration": 22,
    "start_time": "2022-10-17T21:42:53.605Z"
   },
   {
    "duration": 4,
    "start_time": "2022-10-17T21:42:53.628Z"
   },
   {
    "duration": 35,
    "start_time": "2022-10-17T21:42:53.633Z"
   },
   {
    "duration": 42,
    "start_time": "2022-10-17T21:42:53.669Z"
   },
   {
    "duration": 87,
    "start_time": "2022-10-17T21:42:53.712Z"
   },
   {
    "duration": 196,
    "start_time": "2022-10-17T21:42:53.800Z"
   },
   {
    "duration": 5,
    "start_time": "2022-10-17T21:42:53.997Z"
   },
   {
    "duration": 111,
    "start_time": "2022-10-17T21:42:54.007Z"
   },
   {
    "duration": 6,
    "start_time": "2022-10-17T21:42:54.196Z"
   },
   {
    "duration": 10,
    "start_time": "2022-10-17T21:42:54.295Z"
   },
   {
    "duration": 6,
    "start_time": "2022-10-17T21:42:54.307Z"
   },
   {
    "duration": 5,
    "start_time": "2022-10-17T21:42:54.316Z"
   },
   {
    "duration": 3,
    "start_time": "2022-10-17T21:42:54.322Z"
   },
   {
    "duration": 6,
    "start_time": "2022-10-17T21:42:54.327Z"
   },
   {
    "duration": 623,
    "start_time": "2022-10-17T21:42:54.335Z"
   },
   {
    "duration": 151,
    "start_time": "2022-10-17T21:42:54.960Z"
   },
   {
    "duration": 4,
    "start_time": "2022-10-17T21:42:55.113Z"
   },
   {
    "duration": 5,
    "start_time": "2022-10-17T21:42:55.118Z"
   },
   {
    "duration": 7,
    "start_time": "2022-10-17T21:42:55.124Z"
   },
   {
    "duration": 3,
    "start_time": "2022-10-17T21:42:55.132Z"
   },
   {
    "duration": 6,
    "start_time": "2022-10-17T21:42:55.136Z"
   },
   {
    "duration": 625,
    "start_time": "2022-10-17T21:42:55.143Z"
   },
   {
    "duration": 4,
    "start_time": "2022-10-17T21:42:55.770Z"
   },
   {
    "duration": 8,
    "start_time": "2022-10-17T21:42:55.775Z"
   },
   {
    "duration": 13,
    "start_time": "2022-10-17T21:42:55.784Z"
   },
   {
    "duration": 611,
    "start_time": "2022-10-17T21:42:55.798Z"
   },
   {
    "duration": 4,
    "start_time": "2022-10-17T21:42:56.410Z"
   },
   {
    "duration": 8,
    "start_time": "2022-10-17T21:42:56.415Z"
   },
   {
    "duration": 6,
    "start_time": "2022-10-17T21:42:56.424Z"
   },
   {
    "duration": 4,
    "start_time": "2022-10-17T21:42:56.432Z"
   },
   {
    "duration": 5,
    "start_time": "2022-10-17T21:42:56.438Z"
   }
  ],
  "kernelspec": {
   "display_name": "Python 3 (ipykernel)",
   "language": "python",
   "name": "python3"
  },
  "language_info": {
   "codemirror_mode": {
    "name": "ipython",
    "version": 3
   },
   "file_extension": ".py",
   "mimetype": "text/x-python",
   "name": "python",
   "nbconvert_exporter": "python",
   "pygments_lexer": "ipython3",
   "version": "3.9.7"
  },
  "toc": {
   "base_numbering": 1,
   "nav_menu": {},
   "number_sections": true,
   "sideBar": true,
   "skip_h1_title": true,
   "title_cell": "Table of Contents",
   "title_sidebar": "Contents",
   "toc_cell": false,
   "toc_position": {},
   "toc_section_display": true,
   "toc_window_display": false
  }
 },
 "nbformat": 4,
 "nbformat_minor": 2
}
